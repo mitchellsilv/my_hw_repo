{
 "cells": [
  {
   "cell_type": "code",
   "execution_count": 42,
   "metadata": {
    "collapsed": true
   },
   "outputs": [],
   "source": [
    "import numpy as np\n",
    "import pandas as pd\n",
    "import seaborn as sns\n",
    "import matplotlib.pyplot as plt\n",
    "\n",
    "pd.options.display.max_rows = 10\n",
    "sns.set(style='ticks', context='talk')"
   ]
  },
  {
   "cell_type": "code",
   "execution_count": 49,
   "metadata": {
    "collapsed": false
   },
   "outputs": [
    {
     "data": {
      "text/html": [
       "<div>\n",
       "<table border=\"1\" class=\"dataframe\">\n",
       "  <thead>\n",
       "    <tr style=\"text-align: right;\">\n",
       "      <th></th>\n",
       "      <th>Date</th>\n",
       "      <th>Visitor/Neutral</th>\n",
       "      <th>PTS</th>\n",
       "      <th>Home/Neutral</th>\n",
       "      <th>PTS.1</th>\n",
       "      <th></th>\n",
       "      <th>.1</th>\n",
       "      <th>Notes</th>\n",
       "    </tr>\n",
       "  </thead>\n",
       "  <tbody>\n",
       "    <tr>\n",
       "      <th>0</th>\n",
       "      <td>Fri, Oct 25, 1985</td>\n",
       "      <td>Washington Bullets</td>\n",
       "      <td>100</td>\n",
       "      <td>Atlanta Hawks</td>\n",
       "      <td>91</td>\n",
       "      <td>Box Score</td>\n",
       "      <td>NaN</td>\n",
       "      <td>NaN</td>\n",
       "    </tr>\n",
       "    <tr>\n",
       "      <th>1</th>\n",
       "      <td>Fri, Oct 25, 1985</td>\n",
       "      <td>Cleveland Cavaliers</td>\n",
       "      <td>115</td>\n",
       "      <td>Chicago Bulls</td>\n",
       "      <td>116</td>\n",
       "      <td>Box Score</td>\n",
       "      <td>OT</td>\n",
       "      <td>NaN</td>\n",
       "    </tr>\n",
       "    <tr>\n",
       "      <th>2</th>\n",
       "      <td>Fri, Oct 25, 1985</td>\n",
       "      <td>Milwaukee Bucks</td>\n",
       "      <td>116</td>\n",
       "      <td>Detroit Pistons</td>\n",
       "      <td>118</td>\n",
       "      <td>Box Score</td>\n",
       "      <td>NaN</td>\n",
       "      <td>NaN</td>\n",
       "    </tr>\n",
       "    <tr>\n",
       "      <th>3</th>\n",
       "      <td>Fri, Oct 25, 1985</td>\n",
       "      <td>Denver Nuggets</td>\n",
       "      <td>119</td>\n",
       "      <td>Golden State Warriors</td>\n",
       "      <td>105</td>\n",
       "      <td>Box Score</td>\n",
       "      <td>NaN</td>\n",
       "      <td>NaN</td>\n",
       "    </tr>\n",
       "    <tr>\n",
       "      <th>4</th>\n",
       "      <td>Fri, Oct 25, 1985</td>\n",
       "      <td>Boston Celtics</td>\n",
       "      <td>109</td>\n",
       "      <td>New Jersey Nets</td>\n",
       "      <td>113</td>\n",
       "      <td>Box Score</td>\n",
       "      <td>OT</td>\n",
       "      <td>NaN</td>\n",
       "    </tr>\n",
       "  </tbody>\n",
       "</table>\n",
       "</div>"
      ],
      "text/plain": [
       "                Date      Visitor/Neutral  PTS           Home/Neutral  PTS.1  \\\n",
       "0  Fri, Oct 25, 1985   Washington Bullets  100          Atlanta Hawks     91   \n",
       "1  Fri, Oct 25, 1985  Cleveland Cavaliers  115          Chicago Bulls    116   \n",
       "2  Fri, Oct 25, 1985      Milwaukee Bucks  116        Detroit Pistons    118   \n",
       "3  Fri, Oct 25, 1985       Denver Nuggets  119  Golden State Warriors    105   \n",
       "4  Fri, Oct 25, 1985       Boston Celtics  109        New Jersey Nets    113   \n",
       "\n",
       "               .1  Notes  \n",
       "0  Box Score  NaN    NaN  \n",
       "1  Box Score   OT    NaN  \n",
       "2  Box Score  NaN    NaN  \n",
       "3  Box Score  NaN    NaN  \n",
       "4  Box Score   OT    NaN  "
      ]
     },
     "execution_count": 49,
     "metadata": {},
     "output_type": "execute_result"
    }
   ],
   "source": [
    "tables = pd.read_html(\"http://www.basketball-reference.com/leagues/NBA_1986_games.html\")\n",
    "games = tables[0]\n",
    "games.head()"
   ]
  },
  {
   "cell_type": "code",
   "execution_count": 50,
   "metadata": {
    "collapsed": false
   },
   "outputs": [
    {
     "data": {
      "text/html": [
       "<div>\n",
       "<table border=\"1\" class=\"dataframe\">\n",
       "  <thead>\n",
       "    <tr style=\"text-align: right;\">\n",
       "      <th></th>\n",
       "      <th></th>\n",
       "      <th>away_team</th>\n",
       "      <th>away_points</th>\n",
       "      <th>home_team</th>\n",
       "      <th>home_points</th>\n",
       "    </tr>\n",
       "    <tr>\n",
       "      <th>game_id</th>\n",
       "      <th>date</th>\n",
       "      <th></th>\n",
       "      <th></th>\n",
       "      <th></th>\n",
       "      <th></th>\n",
       "    </tr>\n",
       "  </thead>\n",
       "  <tbody>\n",
       "    <tr>\n",
       "      <th>0</th>\n",
       "      <th>1985-10-25</th>\n",
       "      <td>Washington Bullets</td>\n",
       "      <td>100</td>\n",
       "      <td>Atlanta Hawks</td>\n",
       "      <td>91</td>\n",
       "    </tr>\n",
       "    <tr>\n",
       "      <th>1</th>\n",
       "      <th>1985-10-25</th>\n",
       "      <td>Cleveland Cavaliers</td>\n",
       "      <td>115</td>\n",
       "      <td>Chicago Bulls</td>\n",
       "      <td>116</td>\n",
       "    </tr>\n",
       "    <tr>\n",
       "      <th>2</th>\n",
       "      <th>1985-10-25</th>\n",
       "      <td>Milwaukee Bucks</td>\n",
       "      <td>116</td>\n",
       "      <td>Detroit Pistons</td>\n",
       "      <td>118</td>\n",
       "    </tr>\n",
       "    <tr>\n",
       "      <th>3</th>\n",
       "      <th>1985-10-25</th>\n",
       "      <td>Denver Nuggets</td>\n",
       "      <td>119</td>\n",
       "      <td>Golden State Warriors</td>\n",
       "      <td>105</td>\n",
       "    </tr>\n",
       "    <tr>\n",
       "      <th>4</th>\n",
       "      <th>1985-10-25</th>\n",
       "      <td>Boston Celtics</td>\n",
       "      <td>109</td>\n",
       "      <td>New Jersey Nets</td>\n",
       "      <td>113</td>\n",
       "    </tr>\n",
       "  </tbody>\n",
       "</table>\n",
       "</div>"
      ],
      "text/plain": [
       "                              away_team  away_points              home_team  \\\n",
       "game_id date                                                                  \n",
       "0       1985-10-25   Washington Bullets          100          Atlanta Hawks   \n",
       "1       1985-10-25  Cleveland Cavaliers          115          Chicago Bulls   \n",
       "2       1985-10-25      Milwaukee Bucks          116        Detroit Pistons   \n",
       "3       1985-10-25       Denver Nuggets          119  Golden State Warriors   \n",
       "4       1985-10-25       Boston Celtics          109        New Jersey Nets   \n",
       "\n",
       "                    home_points  \n",
       "game_id date                     \n",
       "0       1985-10-25           91  \n",
       "1       1985-10-25          116  \n",
       "2       1985-10-25          118  \n",
       "3       1985-10-25          105  \n",
       "4       1985-10-25          113  "
      ]
     },
     "execution_count": 50,
     "metadata": {},
     "output_type": "execute_result"
    }
   ],
   "source": [
    "column_names = {'Date': 'date', 'Start (ET)': 'start',\n",
    "                'Unamed: 2': 'box', 'Visitor/Neutral': 'away_team', \n",
    "                'PTS': 'away_points', 'Home/Neutral': 'home_team',\n",
    "                'PTS.1': 'home_points', 'Unamed: 7': 'n_ot'}\n",
    "\n",
    "games = (games.rename(columns=column_names)\n",
    "    .dropna(thresh=4)\n",
    "    [['date', 'away_team', 'away_points', 'home_team', 'home_points']]\n",
    "    .assign(date=lambda x: pd.to_datetime(x['date'], format='%a, %b %d, %Y'))\n",
    "    .set_index('date', append=True)\n",
    "    .rename_axis([\"game_id\", \"date\"])\n",
    "    .sort_index())\n",
    "games.head()"
   ]
  },
  {
   "cell_type": "code",
   "execution_count": 51,
   "metadata": {
    "collapsed": false
   },
   "outputs": [
    {
     "data": {
      "text/html": [
       "<div>\n",
       "<table border=\"1\" class=\"dataframe\">\n",
       "  <thead>\n",
       "    <tr style=\"text-align: right;\">\n",
       "      <th></th>\n",
       "      <th>game_id</th>\n",
       "      <th>date</th>\n",
       "      <th>variable</th>\n",
       "      <th>team</th>\n",
       "    </tr>\n",
       "  </thead>\n",
       "  <tbody>\n",
       "    <tr>\n",
       "      <th>0</th>\n",
       "      <td>0</td>\n",
       "      <td>1985-10-25</td>\n",
       "      <td>away_team</td>\n",
       "      <td>Washington Bullets</td>\n",
       "    </tr>\n",
       "    <tr>\n",
       "      <th>1</th>\n",
       "      <td>1</td>\n",
       "      <td>1985-10-25</td>\n",
       "      <td>away_team</td>\n",
       "      <td>Cleveland Cavaliers</td>\n",
       "    </tr>\n",
       "    <tr>\n",
       "      <th>2</th>\n",
       "      <td>2</td>\n",
       "      <td>1985-10-25</td>\n",
       "      <td>away_team</td>\n",
       "      <td>Milwaukee Bucks</td>\n",
       "    </tr>\n",
       "    <tr>\n",
       "      <th>3</th>\n",
       "      <td>3</td>\n",
       "      <td>1985-10-25</td>\n",
       "      <td>away_team</td>\n",
       "      <td>Denver Nuggets</td>\n",
       "    </tr>\n",
       "    <tr>\n",
       "      <th>4</th>\n",
       "      <td>4</td>\n",
       "      <td>1985-10-25</td>\n",
       "      <td>away_team</td>\n",
       "      <td>Boston Celtics</td>\n",
       "    </tr>\n",
       "  </tbody>\n",
       "</table>\n",
       "</div>"
      ],
      "text/plain": [
       "   game_id       date   variable                 team\n",
       "0        0 1985-10-25  away_team   Washington Bullets\n",
       "1        1 1985-10-25  away_team  Cleveland Cavaliers\n",
       "2        2 1985-10-25  away_team      Milwaukee Bucks\n",
       "3        3 1985-10-25  away_team       Denver Nuggets\n",
       "4        4 1985-10-25  away_team       Boston Celtics"
      ]
     },
     "execution_count": 51,
     "metadata": {},
     "output_type": "execute_result"
    }
   ],
   "source": [
    "tidy = pd.melt(games.reset_index(),\n",
    "               id_vars=['game_id', 'date'], value_vars=['away_team', 'home_team'],\n",
    "               value_name='team')\n",
    "tidy.head()"
   ]
  },
  {
   "cell_type": "code",
   "execution_count": 52,
   "metadata": {
    "collapsed": false
   },
   "outputs": [
    {
     "data": {
      "text/plain": [
       "0     NaN\n",
       "1     NaN\n",
       "2     NaN\n",
       "3     NaN\n",
       "4     NaN\n",
       "     ... \n",
       "71    1.0\n",
       "72    1.0\n",
       "73    1.0\n",
       "74    5.0\n",
       "75    1.0\n",
       "Name: date, dtype: float64"
      ]
     },
     "execution_count": 52,
     "metadata": {},
     "output_type": "execute_result"
    }
   ],
   "source": [
    "# For each team...  get number of days between games\n",
    "tidy.groupby('team')['date'].diff().dt.days - 1"
   ]
  },
  {
   "cell_type": "code",
   "execution_count": 53,
   "metadata": {
    "collapsed": false
   },
   "outputs": [
    {
     "data": {
      "text/html": [
       "<div>\n",
       "<table border=\"1\" class=\"dataframe\">\n",
       "  <thead>\n",
       "    <tr style=\"text-align: right;\">\n",
       "      <th></th>\n",
       "      <th>game_id</th>\n",
       "      <th>date</th>\n",
       "      <th>variable</th>\n",
       "      <th>team</th>\n",
       "      <th>rest</th>\n",
       "    </tr>\n",
       "  </thead>\n",
       "  <tbody>\n",
       "    <tr>\n",
       "      <th>8</th>\n",
       "      <td>8</td>\n",
       "      <td>1985-10-26</td>\n",
       "      <td>away_team</td>\n",
       "      <td>Detroit Pistons</td>\n",
       "      <td>0.0</td>\n",
       "    </tr>\n",
       "    <tr>\n",
       "      <th>9</th>\n",
       "      <td>9</td>\n",
       "      <td>1985-10-26</td>\n",
       "      <td>away_team</td>\n",
       "      <td>Boston Celtics</td>\n",
       "      <td>0.0</td>\n",
       "    </tr>\n",
       "    <tr>\n",
       "      <th>11</th>\n",
       "      <td>11</td>\n",
       "      <td>1985-10-26</td>\n",
       "      <td>away_team</td>\n",
       "      <td>Sacramento Kings</td>\n",
       "      <td>0.0</td>\n",
       "    </tr>\n",
       "    <tr>\n",
       "      <th>12</th>\n",
       "      <td>12</td>\n",
       "      <td>1985-10-26</td>\n",
       "      <td>away_team</td>\n",
       "      <td>New Jersey Nets</td>\n",
       "      <td>0.0</td>\n",
       "    </tr>\n",
       "    <tr>\n",
       "      <th>13</th>\n",
       "      <td>13</td>\n",
       "      <td>1985-10-26</td>\n",
       "      <td>away_team</td>\n",
       "      <td>Houston Rockets</td>\n",
       "      <td>0.0</td>\n",
       "    </tr>\n",
       "  </tbody>\n",
       "</table>\n",
       "</div>"
      ],
      "text/plain": [
       "    game_id       date   variable              team  rest\n",
       "8         8 1985-10-26  away_team   Detroit Pistons   0.0\n",
       "9         9 1985-10-26  away_team    Boston Celtics   0.0\n",
       "11       11 1985-10-26  away_team  Sacramento Kings   0.0\n",
       "12       12 1985-10-26  away_team   New Jersey Nets   0.0\n",
       "13       13 1985-10-26  away_team   Houston Rockets   0.0"
      ]
     },
     "execution_count": 53,
     "metadata": {},
     "output_type": "execute_result"
    }
   ],
   "source": [
    "tidy['rest'] = tidy.sort_values('date').groupby('team').date.diff().dt.days - 1\n",
    "tidy.dropna().head()"
   ]
  },
  {
   "cell_type": "code",
   "execution_count": 54,
   "metadata": {
    "collapsed": false
   },
   "outputs": [
    {
     "data": {
      "text/html": [
       "<div>\n",
       "<table border=\"1\" class=\"dataframe\">\n",
       "  <thead>\n",
       "    <tr style=\"text-align: right;\">\n",
       "      <th></th>\n",
       "      <th></th>\n",
       "      <th>away_team</th>\n",
       "      <th>away_points</th>\n",
       "      <th>home_team</th>\n",
       "      <th>home_points</th>\n",
       "      <th>away_rest</th>\n",
       "      <th>home_rest</th>\n",
       "    </tr>\n",
       "    <tr>\n",
       "      <th>game_id</th>\n",
       "      <th>date</th>\n",
       "      <th></th>\n",
       "      <th></th>\n",
       "      <th></th>\n",
       "      <th></th>\n",
       "      <th></th>\n",
       "      <th></th>\n",
       "    </tr>\n",
       "  </thead>\n",
       "  <tbody>\n",
       "    <tr>\n",
       "      <th>8</th>\n",
       "      <th>1985-10-26</th>\n",
       "      <td>Detroit Pistons</td>\n",
       "      <td>118</td>\n",
       "      <td>Chicago Bulls</td>\n",
       "      <td>121</td>\n",
       "      <td>0.0</td>\n",
       "      <td>0.0</td>\n",
       "    </tr>\n",
       "    <tr>\n",
       "      <th>9</th>\n",
       "      <th>1985-10-26</th>\n",
       "      <td>Boston Celtics</td>\n",
       "      <td>105</td>\n",
       "      <td>Cleveland Cavaliers</td>\n",
       "      <td>100</td>\n",
       "      <td>0.0</td>\n",
       "      <td>0.0</td>\n",
       "    </tr>\n",
       "    <tr>\n",
       "      <th>11</th>\n",
       "      <th>1985-10-26</th>\n",
       "      <td>Sacramento Kings</td>\n",
       "      <td>112</td>\n",
       "      <td>Denver Nuggets</td>\n",
       "      <td>123</td>\n",
       "      <td>0.0</td>\n",
       "      <td>0.0</td>\n",
       "    </tr>\n",
       "    <tr>\n",
       "      <th>13</th>\n",
       "      <th>1985-10-26</th>\n",
       "      <td>Houston Rockets</td>\n",
       "      <td>129</td>\n",
       "      <td>Los Angeles Clippers</td>\n",
       "      <td>130</td>\n",
       "      <td>0.0</td>\n",
       "      <td>0.0</td>\n",
       "    </tr>\n",
       "    <tr>\n",
       "      <th>14</th>\n",
       "      <th>1985-10-26</th>\n",
       "      <td>Atlanta Hawks</td>\n",
       "      <td>91</td>\n",
       "      <td>Milwaukee Bucks</td>\n",
       "      <td>117</td>\n",
       "      <td>0.0</td>\n",
       "      <td>0.0</td>\n",
       "    </tr>\n",
       "  </tbody>\n",
       "</table>\n",
       "</div>"
      ],
      "text/plain": [
       "                           away_team  away_points             home_team  \\\n",
       "game_id date                                                              \n",
       "8       1985-10-26   Detroit Pistons          118         Chicago Bulls   \n",
       "9       1985-10-26    Boston Celtics          105   Cleveland Cavaliers   \n",
       "11      1985-10-26  Sacramento Kings          112        Denver Nuggets   \n",
       "13      1985-10-26   Houston Rockets          129  Los Angeles Clippers   \n",
       "14      1985-10-26     Atlanta Hawks           91       Milwaukee Bucks   \n",
       "\n",
       "                    home_points  away_rest  home_rest  \n",
       "game_id date                                           \n",
       "8       1985-10-26          121        0.0        0.0  \n",
       "9       1985-10-26          100        0.0        0.0  \n",
       "11      1985-10-26          123        0.0        0.0  \n",
       "13      1985-10-26          130        0.0        0.0  \n",
       "14      1985-10-26          117        0.0        0.0  "
      ]
     },
     "execution_count": 54,
     "metadata": {},
     "output_type": "execute_result"
    }
   ],
   "source": [
    "by_game = (pd.pivot_table(tidy, values='rest',\n",
    "                          index=['game_id', 'date'],\n",
    "                          columns='variable')\n",
    "             .rename(columns={'away_team': 'away_rest',\n",
    "                              'home_team': 'home_rest'}))\n",
    "df = pd.concat([games, by_game], axis=1)\n",
    "df.dropna().head()"
   ]
  },
  {
   "cell_type": "code",
   "execution_count": 55,
   "metadata": {
    "collapsed": false
   },
   "outputs": [
    {
     "data": {
      "text/plain": [
       "<seaborn.axisgrid.FacetGrid at 0x11df34910>"
      ]
     },
     "execution_count": 55,
     "metadata": {},
     "output_type": "execute_result"
    }
   ],
   "source": [
    "g = sns.FacetGrid(tidy, col='team', col_wrap=6, hue='team')\n",
    "g.map(sns.barplot, 'variable', 'rest')\n"
   ]
  },
  {
   "cell_type": "code",
   "execution_count": 56,
   "metadata": {
    "collapsed": false
   },
   "outputs": [
    {
     "data": {
      "text/html": [
       "<div>\n",
       "<table border=\"1\" class=\"dataframe\">\n",
       "  <thead>\n",
       "    <tr style=\"text-align: right;\">\n",
       "      <th></th>\n",
       "      <th></th>\n",
       "      <th>away_team</th>\n",
       "      <th>away_points</th>\n",
       "      <th>home_team</th>\n",
       "      <th>home_points</th>\n",
       "      <th>away_rest</th>\n",
       "      <th>home_rest</th>\n",
       "      <th>home_win</th>\n",
       "      <th>away_win</th>\n",
       "      <th>rest_spread</th>\n",
       "    </tr>\n",
       "    <tr>\n",
       "      <th>game_id</th>\n",
       "      <th>date</th>\n",
       "      <th></th>\n",
       "      <th></th>\n",
       "      <th></th>\n",
       "      <th></th>\n",
       "      <th></th>\n",
       "      <th></th>\n",
       "      <th></th>\n",
       "      <th></th>\n",
       "      <th></th>\n",
       "    </tr>\n",
       "  </thead>\n",
       "  <tbody>\n",
       "    <tr>\n",
       "      <th>8</th>\n",
       "      <th>1985-10-26</th>\n",
       "      <td>Detroit Pistons</td>\n",
       "      <td>118</td>\n",
       "      <td>Chicago Bulls</td>\n",
       "      <td>121</td>\n",
       "      <td>0.0</td>\n",
       "      <td>0.0</td>\n",
       "      <td>True</td>\n",
       "      <td>False</td>\n",
       "      <td>0.0</td>\n",
       "    </tr>\n",
       "    <tr>\n",
       "      <th>9</th>\n",
       "      <th>1985-10-26</th>\n",
       "      <td>Boston Celtics</td>\n",
       "      <td>105</td>\n",
       "      <td>Cleveland Cavaliers</td>\n",
       "      <td>100</td>\n",
       "      <td>0.0</td>\n",
       "      <td>0.0</td>\n",
       "      <td>False</td>\n",
       "      <td>True</td>\n",
       "      <td>0.0</td>\n",
       "    </tr>\n",
       "    <tr>\n",
       "      <th>11</th>\n",
       "      <th>1985-10-26</th>\n",
       "      <td>Sacramento Kings</td>\n",
       "      <td>112</td>\n",
       "      <td>Denver Nuggets</td>\n",
       "      <td>123</td>\n",
       "      <td>0.0</td>\n",
       "      <td>0.0</td>\n",
       "      <td>True</td>\n",
       "      <td>False</td>\n",
       "      <td>0.0</td>\n",
       "    </tr>\n",
       "    <tr>\n",
       "      <th>13</th>\n",
       "      <th>1985-10-26</th>\n",
       "      <td>Houston Rockets</td>\n",
       "      <td>129</td>\n",
       "      <td>Los Angeles Clippers</td>\n",
       "      <td>130</td>\n",
       "      <td>0.0</td>\n",
       "      <td>0.0</td>\n",
       "      <td>True</td>\n",
       "      <td>False</td>\n",
       "      <td>0.0</td>\n",
       "    </tr>\n",
       "    <tr>\n",
       "      <th>14</th>\n",
       "      <th>1985-10-26</th>\n",
       "      <td>Atlanta Hawks</td>\n",
       "      <td>91</td>\n",
       "      <td>Milwaukee Bucks</td>\n",
       "      <td>117</td>\n",
       "      <td>0.0</td>\n",
       "      <td>0.0</td>\n",
       "      <td>True</td>\n",
       "      <td>False</td>\n",
       "      <td>0.0</td>\n",
       "    </tr>\n",
       "  </tbody>\n",
       "</table>\n",
       "</div>"
      ],
      "text/plain": [
       "                           away_team  away_points             home_team  \\\n",
       "game_id date                                                              \n",
       "8       1985-10-26   Detroit Pistons          118         Chicago Bulls   \n",
       "9       1985-10-26    Boston Celtics          105   Cleveland Cavaliers   \n",
       "11      1985-10-26  Sacramento Kings          112        Denver Nuggets   \n",
       "13      1985-10-26   Houston Rockets          129  Los Angeles Clippers   \n",
       "14      1985-10-26     Atlanta Hawks           91       Milwaukee Bucks   \n",
       "\n",
       "                    home_points  away_rest  home_rest home_win away_win  \\\n",
       "game_id date                                                              \n",
       "8       1985-10-26          121        0.0        0.0     True    False   \n",
       "9       1985-10-26          100        0.0        0.0    False     True   \n",
       "11      1985-10-26          123        0.0        0.0     True    False   \n",
       "13      1985-10-26          130        0.0        0.0     True    False   \n",
       "14      1985-10-26          117        0.0        0.0     True    False   \n",
       "\n",
       "                    rest_spread  \n",
       "game_id date                     \n",
       "8       1985-10-26          0.0  \n",
       "9       1985-10-26          0.0  \n",
       "11      1985-10-26          0.0  \n",
       "13      1985-10-26          0.0  \n",
       "14      1985-10-26          0.0  "
      ]
     },
     "execution_count": 56,
     "metadata": {},
     "output_type": "execute_result"
    }
   ],
   "source": [
    "df['home_win'] = df['home_points'] > df['away_points'] \n",
    "df['away_win'] = df['away_points'] > df['home_points']\n",
    "df['rest_spread'] = df['home_rest'] - df['away_rest']\n",
    "df.dropna().head()"
   ]
  },
  {
   "cell_type": "code",
   "execution_count": 57,
   "metadata": {
    "collapsed": false
   },
   "outputs": [
    {
     "data": {
      "text/plain": [
       "[<matplotlib.text.Text at 0x11e926390>, <matplotlib.text.Text at 0x11e913450>]"
      ]
     },
     "execution_count": 57,
     "metadata": {},
     "output_type": "execute_result"
    }
   ],
   "source": [
    "delta = (by_game.home_rest - by_game.away_rest).dropna().astype(int)\n",
    "ax = (delta.value_counts()\n",
    "    .reindex(np.arange(delta.min(), delta.max() + 1), fill_value=0)\n",
    "    .sort_index()\n",
    "    .plot(kind='bar', color='k', width=.9, rot=0, figsize=(12, 6))\n",
    ")\n",
    "sns.despine()\n",
    "ax.set(xlabel='Difference in Rest (Home - Away)', ylabel='Games')"
   ]
  },
  {
   "cell_type": "code",
   "execution_count": 58,
   "metadata": {
    "collapsed": false
   },
   "outputs": [],
   "source": [
    "fig, ax = plt.subplots(figsize=(12, 6))\n",
    "sns.barplot(x='rest_spread', y='home_win', data=df.query('-3 <= rest_spread <= 3'),\n",
    "            color='#4c72b0', ax=ax)\n",
    "sns.despine()"
   ]
  },
  {
   "cell_type": "code",
   "execution_count": 59,
   "metadata": {
    "collapsed": false
   },
   "outputs": [
    {
     "data": {
      "text/plain": [
       "date        variable \n",
       "1985-10-26  away_team    0.0\n",
       "            home_team    0.0\n",
       "1985-10-27  away_team    1.0\n",
       "            home_team    1.0\n",
       "1985-10-29  away_team    2.1\n",
       "Name: rest, dtype: float64"
      ]
     },
     "execution_count": 59,
     "metadata": {},
     "output_type": "execute_result"
    }
   ],
   "source": [
    "rest = (tidy.groupby(['date', 'variable'])\n",
    "            .rest.mean()\n",
    "            .dropna())\n",
    "rest.head()"
   ]
  },
  {
   "cell_type": "code",
   "execution_count": 60,
   "metadata": {
    "collapsed": false
   },
   "outputs": [
    {
     "data": {
      "text/html": [
       "<div>\n",
       "<table border=\"1\" class=\"dataframe\">\n",
       "  <thead>\n",
       "    <tr style=\"text-align: right;\">\n",
       "      <th>variable</th>\n",
       "      <th>away_team</th>\n",
       "      <th>home_team</th>\n",
       "    </tr>\n",
       "    <tr>\n",
       "      <th>date</th>\n",
       "      <th></th>\n",
       "      <th></th>\n",
       "    </tr>\n",
       "  </thead>\n",
       "  <tbody>\n",
       "    <tr>\n",
       "      <th>1985-10-26</th>\n",
       "      <td>0.00</td>\n",
       "      <td>0.00</td>\n",
       "    </tr>\n",
       "    <tr>\n",
       "      <th>1985-10-27</th>\n",
       "      <td>1.00</td>\n",
       "      <td>1.00</td>\n",
       "    </tr>\n",
       "    <tr>\n",
       "      <th>1985-10-29</th>\n",
       "      <td>2.10</td>\n",
       "      <td>2.00</td>\n",
       "    </tr>\n",
       "    <tr>\n",
       "      <th>1985-10-30</th>\n",
       "      <td>0.75</td>\n",
       "      <td>0.75</td>\n",
       "    </tr>\n",
       "    <tr>\n",
       "      <th>1985-10-31</th>\n",
       "      <td>1.00</td>\n",
       "      <td>1.50</td>\n",
       "    </tr>\n",
       "  </tbody>\n",
       "</table>\n",
       "</div>"
      ],
      "text/plain": [
       "variable    away_team  home_team\n",
       "date                            \n",
       "1985-10-26       0.00       0.00\n",
       "1985-10-27       1.00       1.00\n",
       "1985-10-29       2.10       2.00\n",
       "1985-10-30       0.75       0.75\n",
       "1985-10-31       1.00       1.50"
      ]
     },
     "execution_count": 60,
     "metadata": {},
     "output_type": "execute_result"
    }
   ],
   "source": [
    "rest.unstack().head()"
   ]
  },
  {
   "cell_type": "code",
   "execution_count": 61,
   "metadata": {
    "collapsed": false
   },
   "outputs": [
    {
     "data": {
      "text/plain": [
       "date        variable \n",
       "1985-10-26  away_team    0.00\n",
       "            home_team    0.00\n",
       "1985-10-27  away_team    1.00\n",
       "            home_team    1.00\n",
       "1985-10-29  away_team    2.10\n",
       "            home_team    2.00\n",
       "1985-10-30  away_team    0.75\n",
       "            home_team    0.75\n",
       "1985-10-31  away_team    1.00\n",
       "            home_team    1.50\n",
       "dtype: float64"
      ]
     },
     "execution_count": 61,
     "metadata": {},
     "output_type": "execute_result"
    }
   ],
   "source": [
    "rest.unstack().stack()"
   ]
  },
  {
   "cell_type": "code",
   "execution_count": 62,
   "metadata": {
    "collapsed": false
   },
   "outputs": [],
   "source": [
    "ax=(rest.unstack()\n",
    "        .query('away_team < 7')\n",
    "        .rolling(7)\n",
    "        .mean().plot(figsize=(12, 6), linewidth=3, legend=False))\n",
    "ax.annotate(\"Home\", (rest.index[-1][0], 1.02), color='g', size=14)\n",
    "ax.annotate(\"Away\", (rest.index[-1][0], 0.82), color='b', size=14)\n",
    "sns.despine()"
   ]
  },
  {
   "cell_type": "code",
   "execution_count": 63,
   "metadata": {
    "collapsed": true
   },
   "outputs": [],
   "source": [
    "df['home_win'] = df.home_points > df.away_points"
   ]
  },
  {
   "cell_type": "code",
   "execution_count": 64,
   "metadata": {
    "collapsed": false
   },
   "outputs": [
    {
     "data": {
      "text/html": [
       "<div>\n",
       "<table border=\"1\" class=\"dataframe\">\n",
       "  <thead>\n",
       "    <tr style=\"text-align: right;\">\n",
       "      <th></th>\n",
       "      <th></th>\n",
       "      <th>n_games</th>\n",
       "      <th>n_wins</th>\n",
       "      <th>win_pct</th>\n",
       "    </tr>\n",
       "    <tr>\n",
       "      <th>team</th>\n",
       "      <th>is_home</th>\n",
       "      <th></th>\n",
       "      <th></th>\n",
       "      <th></th>\n",
       "    </tr>\n",
       "  </thead>\n",
       "  <tbody>\n",
       "    <tr>\n",
       "      <th rowspan=\"2\" valign=\"top\">Atlanta Hawks</th>\n",
       "      <th>away_team</th>\n",
       "      <td>1</td>\n",
       "      <td>0.0</td>\n",
       "      <td>0.0</td>\n",
       "    </tr>\n",
       "    <tr>\n",
       "      <th>home_team</th>\n",
       "      <td>2</td>\n",
       "      <td>1.0</td>\n",
       "      <td>0.5</td>\n",
       "    </tr>\n",
       "    <tr>\n",
       "      <th rowspan=\"2\" valign=\"top\">Boston Celtics</th>\n",
       "      <th>away_team</th>\n",
       "      <td>2</td>\n",
       "      <td>1.0</td>\n",
       "      <td>0.5</td>\n",
       "    </tr>\n",
       "    <tr>\n",
       "      <th>home_team</th>\n",
       "      <td>1</td>\n",
       "      <td>1.0</td>\n",
       "      <td>1.0</td>\n",
       "    </tr>\n",
       "    <tr>\n",
       "      <th>Chicago Bulls</th>\n",
       "      <th>away_team</th>\n",
       "      <td>2</td>\n",
       "      <td>1.0</td>\n",
       "      <td>0.5</td>\n",
       "    </tr>\n",
       "  </tbody>\n",
       "</table>\n",
       "</div>"
      ],
      "text/plain": [
       "                          n_games  n_wins  win_pct\n",
       "team           is_home                            \n",
       "Atlanta Hawks  away_team        1     0.0      0.0\n",
       "               home_team        2     1.0      0.5\n",
       "Boston Celtics away_team        2     1.0      0.5\n",
       "               home_team        1     1.0      1.0\n",
       "Chicago Bulls  away_team        2     1.0      0.5"
      ]
     },
     "execution_count": 64,
     "metadata": {},
     "output_type": "execute_result"
    }
   ],
   "source": [
    "\n",
    "wins = (\n",
    "    pd.melt(df.reset_index(),\n",
    "            id_vars=['game_id', 'date', 'home_win'],\n",
    "            value_name='team', var_name='is_home',\n",
    "            value_vars=['home_team', 'away_team'])\n",
    "   .assign(win=lambda x: x.home_win == (x.is_home == 'home_team'))\n",
    "   .groupby(['team', 'is_home'])\n",
    "   .win\n",
    "   .agg({'n_wins': 'sum', 'n_games': 'count', 'win_pct': 'mean'})\n",
    ")\n",
    "wins.head()"
   ]
  },
  {
   "cell_type": "code",
   "execution_count": 65,
   "metadata": {
    "collapsed": false
   },
   "outputs": [
    {
     "data": {
      "text/plain": [
       "team\n",
       "Atlanta Hawks          0.333333\n",
       "Boston Celtics         0.666667\n",
       "Chicago Bulls          0.750000\n",
       "Cleveland Cavaliers    0.250000\n",
       "Dallas Mavericks       0.500000\n",
       "dtype: float64"
      ]
     },
     "execution_count": 65,
     "metadata": {},
     "output_type": "execute_result"
    }
   ],
   "source": [
    "win_percent = (\n",
    "    # Use sum(wins) / sum(games) since I don't\n",
    "    # know if teams play the same number of games at\n",
    "    # home as away\n",
    "    wins.groupby(level='team', as_index=True)\n",
    "        .apply(lambda x: x.n_wins.sum() / x.n_games.sum())\n",
    ")\n",
    "win_percent.head()"
   ]
  },
  {
   "cell_type": "code",
   "execution_count": 66,
   "metadata": {
    "collapsed": false
   },
   "outputs": [
    {
     "data": {
      "text/html": [
       "<div>\n",
       "<table border=\"1\" class=\"dataframe\">\n",
       "  <thead>\n",
       "    <tr style=\"text-align: right;\">\n",
       "      <th></th>\n",
       "      <th></th>\n",
       "      <th>away_team</th>\n",
       "      <th>away_points</th>\n",
       "      <th>home_team</th>\n",
       "      <th>home_points</th>\n",
       "      <th>away_rest</th>\n",
       "      <th>home_rest</th>\n",
       "      <th>home_win</th>\n",
       "      <th>away_win</th>\n",
       "      <th>rest_spread</th>\n",
       "      <th>away_strength</th>\n",
       "      <th>home_strength</th>\n",
       "      <th>point_diff</th>\n",
       "      <th>rest_diff</th>\n",
       "    </tr>\n",
       "    <tr>\n",
       "      <th>game_id</th>\n",
       "      <th>date</th>\n",
       "      <th></th>\n",
       "      <th></th>\n",
       "      <th></th>\n",
       "      <th></th>\n",
       "      <th></th>\n",
       "      <th></th>\n",
       "      <th></th>\n",
       "      <th></th>\n",
       "      <th></th>\n",
       "      <th></th>\n",
       "      <th></th>\n",
       "      <th></th>\n",
       "      <th></th>\n",
       "    </tr>\n",
       "  </thead>\n",
       "  <tbody>\n",
       "    <tr>\n",
       "      <th>0</th>\n",
       "      <th>1985-10-25</th>\n",
       "      <td>Washington Bullets</td>\n",
       "      <td>100</td>\n",
       "      <td>Atlanta Hawks</td>\n",
       "      <td>91</td>\n",
       "      <td>NaN</td>\n",
       "      <td>NaN</td>\n",
       "      <td>False</td>\n",
       "      <td>True</td>\n",
       "      <td>NaN</td>\n",
       "      <td>0.666667</td>\n",
       "      <td>0.333333</td>\n",
       "      <td>-9</td>\n",
       "      <td>NaN</td>\n",
       "    </tr>\n",
       "    <tr>\n",
       "      <th>1</th>\n",
       "      <th>1985-10-25</th>\n",
       "      <td>Cleveland Cavaliers</td>\n",
       "      <td>115</td>\n",
       "      <td>Chicago Bulls</td>\n",
       "      <td>116</td>\n",
       "      <td>NaN</td>\n",
       "      <td>NaN</td>\n",
       "      <td>True</td>\n",
       "      <td>False</td>\n",
       "      <td>NaN</td>\n",
       "      <td>0.250000</td>\n",
       "      <td>0.750000</td>\n",
       "      <td>1</td>\n",
       "      <td>NaN</td>\n",
       "    </tr>\n",
       "    <tr>\n",
       "      <th>2</th>\n",
       "      <th>1985-10-25</th>\n",
       "      <td>Milwaukee Bucks</td>\n",
       "      <td>116</td>\n",
       "      <td>Detroit Pistons</td>\n",
       "      <td>118</td>\n",
       "      <td>NaN</td>\n",
       "      <td>NaN</td>\n",
       "      <td>True</td>\n",
       "      <td>False</td>\n",
       "      <td>NaN</td>\n",
       "      <td>0.500000</td>\n",
       "      <td>0.500000</td>\n",
       "      <td>2</td>\n",
       "      <td>NaN</td>\n",
       "    </tr>\n",
       "    <tr>\n",
       "      <th>3</th>\n",
       "      <th>1985-10-25</th>\n",
       "      <td>Denver Nuggets</td>\n",
       "      <td>119</td>\n",
       "      <td>Golden State Warriors</td>\n",
       "      <td>105</td>\n",
       "      <td>NaN</td>\n",
       "      <td>NaN</td>\n",
       "      <td>False</td>\n",
       "      <td>True</td>\n",
       "      <td>NaN</td>\n",
       "      <td>1.000000</td>\n",
       "      <td>0.250000</td>\n",
       "      <td>-14</td>\n",
       "      <td>NaN</td>\n",
       "    </tr>\n",
       "    <tr>\n",
       "      <th>4</th>\n",
       "      <th>1985-10-25</th>\n",
       "      <td>Boston Celtics</td>\n",
       "      <td>109</td>\n",
       "      <td>New Jersey Nets</td>\n",
       "      <td>113</td>\n",
       "      <td>NaN</td>\n",
       "      <td>NaN</td>\n",
       "      <td>True</td>\n",
       "      <td>False</td>\n",
       "      <td>NaN</td>\n",
       "      <td>0.666667</td>\n",
       "      <td>0.500000</td>\n",
       "      <td>4</td>\n",
       "      <td>NaN</td>\n",
       "    </tr>\n",
       "  </tbody>\n",
       "</table>\n",
       "</div>"
      ],
      "text/plain": [
       "                              away_team  away_points              home_team  \\\n",
       "game_id date                                                                  \n",
       "0       1985-10-25   Washington Bullets          100          Atlanta Hawks   \n",
       "1       1985-10-25  Cleveland Cavaliers          115          Chicago Bulls   \n",
       "2       1985-10-25      Milwaukee Bucks          116        Detroit Pistons   \n",
       "3       1985-10-25       Denver Nuggets          119  Golden State Warriors   \n",
       "4       1985-10-25       Boston Celtics          109        New Jersey Nets   \n",
       "\n",
       "                    home_points  away_rest  home_rest home_win away_win  \\\n",
       "game_id date                                                              \n",
       "0       1985-10-25           91        NaN        NaN    False     True   \n",
       "1       1985-10-25          116        NaN        NaN     True    False   \n",
       "2       1985-10-25          118        NaN        NaN     True    False   \n",
       "3       1985-10-25          105        NaN        NaN    False     True   \n",
       "4       1985-10-25          113        NaN        NaN     True    False   \n",
       "\n",
       "                    rest_spread  away_strength  home_strength  point_diff  \\\n",
       "game_id date                                                                \n",
       "0       1985-10-25          NaN       0.666667       0.333333          -9   \n",
       "1       1985-10-25          NaN       0.250000       0.750000           1   \n",
       "2       1985-10-25          NaN       0.500000       0.500000           2   \n",
       "3       1985-10-25          NaN       1.000000       0.250000         -14   \n",
       "4       1985-10-25          NaN       0.666667       0.500000           4   \n",
       "\n",
       "                    rest_diff  \n",
       "game_id date                   \n",
       "0       1985-10-25        NaN  \n",
       "1       1985-10-25        NaN  \n",
       "2       1985-10-25        NaN  \n",
       "3       1985-10-25        NaN  \n",
       "4       1985-10-25        NaN  "
      ]
     },
     "execution_count": 66,
     "metadata": {},
     "output_type": "execute_result"
    }
   ],
   "source": [
    "df = df.assign(away_strength=df['away_team'].map(win_percent),\n",
    "               home_strength=df['home_team'].map(win_percent),\n",
    "               point_diff=df['home_points'] - df['away_points'],\n",
    "               rest_diff=df['home_rest'] - df['away_rest'])\n",
    "df.head()"
   ]
  },
  {
   "cell_type": "code",
   "execution_count": 67,
   "metadata": {
    "collapsed": true
   },
   "outputs": [],
   "source": [
    "import statsmodels.formula.api as sm\n",
    "\n",
    "df['home_win'] = df.home_win.astype(int)  # for statsmodels"
   ]
  },
  {
   "cell_type": "code",
   "execution_count": 68,
   "metadata": {
    "collapsed": false
   },
   "outputs": [
    {
     "name": "stdout",
     "output_type": "stream",
     "text": [
      "Optimization terminated successfully.\n",
      "         Current function value: 0.270574\n",
      "         Iterations 8\n"
     ]
    },
    {
     "data": {
      "text/html": [
       "<table class=\"simpletable\">\n",
       "<caption>Logit Regression Results</caption>\n",
       "<tr>\n",
       "  <th>Dep. Variable:</th>     <td>home_win</td>     <th>  No. Observations:  </th>  <td>    26</td> \n",
       "</tr>\n",
       "<tr>\n",
       "  <th>Model:</th>               <td>Logit</td>      <th>  Df Residuals:      </th>  <td>    21</td> \n",
       "</tr>\n",
       "<tr>\n",
       "  <th>Method:</th>               <td>MLE</td>       <th>  Df Model:          </th>  <td>     4</td> \n",
       "</tr>\n",
       "<tr>\n",
       "  <th>Date:</th>          <td>Sun, 26 Mar 2017</td> <th>  Pseudo R-squ.:     </th>  <td>0.5355</td> \n",
       "</tr>\n",
       "<tr>\n",
       "  <th>Time:</th>              <td>15:21:04</td>     <th>  Log-Likelihood:    </th> <td> -7.0349</td>\n",
       "</tr>\n",
       "<tr>\n",
       "  <th>converged:</th>           <td>True</td>       <th>  LL-Null:           </th> <td> -15.145</td>\n",
       "</tr>\n",
       "<tr>\n",
       "  <th> </th>                      <td> </td>        <th>  LLR p-value:       </th> <td>0.002738</td>\n",
       "</tr>\n",
       "</table>\n",
       "<table class=\"simpletable\">\n",
       "<tr>\n",
       "        <td></td>           <th>coef</th>     <th>std err</th>      <th>z</th>      <th>P>|z|</th> <th>[95.0% Conf. Int.]</th> \n",
       "</tr>\n",
       "<tr>\n",
       "  <th>Intercept</th>     <td>    1.4230</td> <td>    2.728</td> <td>    0.522</td> <td> 0.602</td> <td>   -3.924     6.770</td>\n",
       "</tr>\n",
       "<tr>\n",
       "  <th>home_strength</th> <td>    6.0148</td> <td>    3.729</td> <td>    1.613</td> <td> 0.107</td> <td>   -1.294    13.324</td>\n",
       "</tr>\n",
       "<tr>\n",
       "  <th>away_strength</th> <td>   -6.7771</td> <td>    3.560</td> <td>   -1.904</td> <td> 0.057</td> <td>  -13.754     0.200</td>\n",
       "</tr>\n",
       "<tr>\n",
       "  <th>home_rest</th>     <td>    0.4343</td> <td>    0.647</td> <td>    0.671</td> <td> 0.502</td> <td>   -0.834     1.703</td>\n",
       "</tr>\n",
       "<tr>\n",
       "  <th>away_rest</th>     <td>   -0.0473</td> <td>    0.660</td> <td>   -0.072</td> <td> 0.943</td> <td>   -1.340     1.246</td>\n",
       "</tr>\n",
       "</table>"
      ],
      "text/plain": [
       "<class 'statsmodels.iolib.summary.Summary'>\n",
       "\"\"\"\n",
       "                           Logit Regression Results                           \n",
       "==============================================================================\n",
       "Dep. Variable:               home_win   No. Observations:                   26\n",
       "Model:                          Logit   Df Residuals:                       21\n",
       "Method:                           MLE   Df Model:                            4\n",
       "Date:                Sun, 26 Mar 2017   Pseudo R-squ.:                  0.5355\n",
       "Time:                        15:21:04   Log-Likelihood:                -7.0349\n",
       "converged:                       True   LL-Null:                       -15.145\n",
       "                                        LLR p-value:                  0.002738\n",
       "=================================================================================\n",
       "                    coef    std err          z      P>|z|      [95.0% Conf. Int.]\n",
       "---------------------------------------------------------------------------------\n",
       "Intercept         1.4230      2.728      0.522      0.602        -3.924     6.770\n",
       "home_strength     6.0148      3.729      1.613      0.107        -1.294    13.324\n",
       "away_strength    -6.7771      3.560     -1.904      0.057       -13.754     0.200\n",
       "home_rest         0.4343      0.647      0.671      0.502        -0.834     1.703\n",
       "away_rest        -0.0473      0.660     -0.072      0.943        -1.340     1.246\n",
       "=================================================================================\n",
       "\"\"\""
      ]
     },
     "execution_count": 68,
     "metadata": {},
     "output_type": "execute_result"
    }
   ],
   "source": [
    "mod = sm.logit('home_win ~ home_strength + away_strength + home_rest + away_rest', df)\n",
    "res = mod.fit()\n",
    "res.summary()"
   ]
  },
  {
   "cell_type": "code",
   "execution_count": null,
   "metadata": {
    "collapsed": false
   },
   "outputs": [],
   "source": []
  },
  {
   "cell_type": "code",
   "execution_count": null,
   "metadata": {
    "collapsed": true
   },
   "outputs": [],
   "source": []
  },
  {
   "cell_type": "code",
   "execution_count": null,
   "metadata": {
    "collapsed": true
   },
   "outputs": [],
   "source": []
  }
 ],
 "metadata": {
  "anaconda-cloud": {},
  "kernelspec": {
   "display_name": "Python [default]",
   "language": "python",
   "name": "python2"
  },
  "language_info": {
   "codemirror_mode": {
    "name": "ipython",
    "version": 2
   },
   "file_extension": ".py",
   "mimetype": "text/x-python",
   "name": "python",
   "nbconvert_exporter": "python",
   "pygments_lexer": "ipython2",
   "version": "2.7.12"
  }
 },
 "nbformat": 4,
 "nbformat_minor": 1
}
