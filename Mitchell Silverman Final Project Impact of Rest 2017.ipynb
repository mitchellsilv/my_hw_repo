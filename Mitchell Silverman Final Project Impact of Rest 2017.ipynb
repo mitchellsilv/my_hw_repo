{
 "cells": [
  {
   "cell_type": "code",
   "execution_count": 1,
   "metadata": {
    "collapsed": true
   },
   "outputs": [],
   "source": [
    "import numpy as np\n",
    "import pandas as pd\n",
    "import seaborn as sns\n",
    "import matplotlib.pyplot as plt\n",
    "\n",
    "pd.options.display.max_rows = 10\n",
    "sns.set(style='ticks', context='talk')"
   ]
  },
  {
   "cell_type": "code",
   "execution_count": 2,
   "metadata": {
    "collapsed": false
   },
   "outputs": [
    {
     "data": {
      "text/html": [
       "<div>\n",
       "<table border=\"1\" class=\"dataframe\">\n",
       "  <thead>\n",
       "    <tr style=\"text-align: right;\">\n",
       "      <th></th>\n",
       "      <th>Date</th>\n",
       "      <th>Start (ET)</th>\n",
       "      <th>Visitor/Neutral</th>\n",
       "      <th>PTS</th>\n",
       "      <th>Home/Neutral</th>\n",
       "      <th>PTS.1</th>\n",
       "      <th></th>\n",
       "      <th>.1</th>\n",
       "      <th>Notes</th>\n",
       "    </tr>\n",
       "  </thead>\n",
       "  <tbody>\n",
       "    <tr>\n",
       "      <th>0</th>\n",
       "      <td>Tue, Oct 25, 2016</td>\n",
       "      <td>7:30 pm</td>\n",
       "      <td>New York Knicks</td>\n",
       "      <td>88</td>\n",
       "      <td>Cleveland Cavaliers</td>\n",
       "      <td>117</td>\n",
       "      <td>Box Score</td>\n",
       "      <td>NaN</td>\n",
       "      <td>NaN</td>\n",
       "    </tr>\n",
       "    <tr>\n",
       "      <th>1</th>\n",
       "      <td>Tue, Oct 25, 2016</td>\n",
       "      <td>10:30 pm</td>\n",
       "      <td>San Antonio Spurs</td>\n",
       "      <td>129</td>\n",
       "      <td>Golden State Warriors</td>\n",
       "      <td>100</td>\n",
       "      <td>Box Score</td>\n",
       "      <td>NaN</td>\n",
       "      <td>NaN</td>\n",
       "    </tr>\n",
       "    <tr>\n",
       "      <th>2</th>\n",
       "      <td>Tue, Oct 25, 2016</td>\n",
       "      <td>10:00 pm</td>\n",
       "      <td>Utah Jazz</td>\n",
       "      <td>104</td>\n",
       "      <td>Portland Trail Blazers</td>\n",
       "      <td>113</td>\n",
       "      <td>Box Score</td>\n",
       "      <td>NaN</td>\n",
       "      <td>NaN</td>\n",
       "    </tr>\n",
       "    <tr>\n",
       "      <th>3</th>\n",
       "      <td>Wed, Oct 26, 2016</td>\n",
       "      <td>7:30 pm</td>\n",
       "      <td>Brooklyn Nets</td>\n",
       "      <td>117</td>\n",
       "      <td>Boston Celtics</td>\n",
       "      <td>122</td>\n",
       "      <td>Box Score</td>\n",
       "      <td>NaN</td>\n",
       "      <td>NaN</td>\n",
       "    </tr>\n",
       "    <tr>\n",
       "      <th>4</th>\n",
       "      <td>Wed, Oct 26, 2016</td>\n",
       "      <td>7:00 pm</td>\n",
       "      <td>Dallas Mavericks</td>\n",
       "      <td>121</td>\n",
       "      <td>Indiana Pacers</td>\n",
       "      <td>130</td>\n",
       "      <td>Box Score</td>\n",
       "      <td>OT</td>\n",
       "      <td>NaN</td>\n",
       "    </tr>\n",
       "  </tbody>\n",
       "</table>\n",
       "</div>"
      ],
      "text/plain": [
       "                Date Start (ET)    Visitor/Neutral  PTS  \\\n",
       "0  Tue, Oct 25, 2016    7:30 pm    New York Knicks   88   \n",
       "1  Tue, Oct 25, 2016   10:30 pm  San Antonio Spurs  129   \n",
       "2  Tue, Oct 25, 2016   10:00 pm          Utah Jazz  104   \n",
       "3  Wed, Oct 26, 2016    7:30 pm      Brooklyn Nets  117   \n",
       "4  Wed, Oct 26, 2016    7:00 pm   Dallas Mavericks  121   \n",
       "\n",
       "             Home/Neutral  PTS.1              .1  Notes  \n",
       "0     Cleveland Cavaliers    117  Box Score  NaN    NaN  \n",
       "1   Golden State Warriors    100  Box Score  NaN    NaN  \n",
       "2  Portland Trail Blazers    113  Box Score  NaN    NaN  \n",
       "3          Boston Celtics    122  Box Score  NaN    NaN  \n",
       "4          Indiana Pacers    130  Box Score   OT    NaN  "
      ]
     },
     "execution_count": 2,
     "metadata": {},
     "output_type": "execute_result"
    }
   ],
   "source": [
    "tables = pd.read_html(\"http://www.basketball-reference.com/leagues/NBA_2017_games.html\")\n",
    "games = tables[0]\n",
    "games.head()"
   ]
  },
  {
   "cell_type": "code",
   "execution_count": 3,
   "metadata": {
    "collapsed": false
   },
   "outputs": [
    {
     "data": {
      "text/html": [
       "<div>\n",
       "<table border=\"1\" class=\"dataframe\">\n",
       "  <thead>\n",
       "    <tr style=\"text-align: right;\">\n",
       "      <th></th>\n",
       "      <th></th>\n",
       "      <th>away_team</th>\n",
       "      <th>away_points</th>\n",
       "      <th>home_team</th>\n",
       "      <th>home_points</th>\n",
       "    </tr>\n",
       "    <tr>\n",
       "      <th>game_id</th>\n",
       "      <th>date</th>\n",
       "      <th></th>\n",
       "      <th></th>\n",
       "      <th></th>\n",
       "      <th></th>\n",
       "    </tr>\n",
       "  </thead>\n",
       "  <tbody>\n",
       "    <tr>\n",
       "      <th>0</th>\n",
       "      <th>2016-10-25</th>\n",
       "      <td>New York Knicks</td>\n",
       "      <td>88</td>\n",
       "      <td>Cleveland Cavaliers</td>\n",
       "      <td>117</td>\n",
       "    </tr>\n",
       "    <tr>\n",
       "      <th>1</th>\n",
       "      <th>2016-10-25</th>\n",
       "      <td>San Antonio Spurs</td>\n",
       "      <td>129</td>\n",
       "      <td>Golden State Warriors</td>\n",
       "      <td>100</td>\n",
       "    </tr>\n",
       "    <tr>\n",
       "      <th>2</th>\n",
       "      <th>2016-10-25</th>\n",
       "      <td>Utah Jazz</td>\n",
       "      <td>104</td>\n",
       "      <td>Portland Trail Blazers</td>\n",
       "      <td>113</td>\n",
       "    </tr>\n",
       "    <tr>\n",
       "      <th>3</th>\n",
       "      <th>2016-10-26</th>\n",
       "      <td>Brooklyn Nets</td>\n",
       "      <td>117</td>\n",
       "      <td>Boston Celtics</td>\n",
       "      <td>122</td>\n",
       "    </tr>\n",
       "    <tr>\n",
       "      <th>4</th>\n",
       "      <th>2016-10-26</th>\n",
       "      <td>Dallas Mavericks</td>\n",
       "      <td>121</td>\n",
       "      <td>Indiana Pacers</td>\n",
       "      <td>130</td>\n",
       "    </tr>\n",
       "  </tbody>\n",
       "</table>\n",
       "</div>"
      ],
      "text/plain": [
       "                            away_team  away_points               home_team  \\\n",
       "game_id date                                                                 \n",
       "0       2016-10-25    New York Knicks           88     Cleveland Cavaliers   \n",
       "1       2016-10-25  San Antonio Spurs          129   Golden State Warriors   \n",
       "2       2016-10-25          Utah Jazz          104  Portland Trail Blazers   \n",
       "3       2016-10-26      Brooklyn Nets          117          Boston Celtics   \n",
       "4       2016-10-26   Dallas Mavericks          121          Indiana Pacers   \n",
       "\n",
       "                    home_points  \n",
       "game_id date                     \n",
       "0       2016-10-25          117  \n",
       "1       2016-10-25          100  \n",
       "2       2016-10-25          113  \n",
       "3       2016-10-26          122  \n",
       "4       2016-10-26          130  "
      ]
     },
     "execution_count": 3,
     "metadata": {},
     "output_type": "execute_result"
    }
   ],
   "source": [
    "column_names = {'Date': 'date', 'Start (ET)': 'start',\n",
    "                'Unamed: 2': 'box', 'Visitor/Neutral': 'away_team', \n",
    "                'PTS': 'away_points', 'Home/Neutral': 'home_team',\n",
    "                'PTS.1': 'home_points', 'Unamed: 7': 'n_ot'}\n",
    "\n",
    "games = (games.rename(columns=column_names)\n",
    "    .dropna(thresh=4)\n",
    "    [['date', 'away_team', 'away_points', 'home_team', 'home_points']]\n",
    "    .assign(date=lambda x: pd.to_datetime(x['date'], format='%a, %b %d, %Y'))\n",
    "    .set_index('date', append=True)\n",
    "    .rename_axis([\"game_id\", \"date\"])\n",
    "    .sort_index())\n",
    "games.head()"
   ]
  },
  {
   "cell_type": "code",
   "execution_count": 4,
   "metadata": {
    "collapsed": false
   },
   "outputs": [
    {
     "data": {
      "text/html": [
       "<div>\n",
       "<table border=\"1\" class=\"dataframe\">\n",
       "  <thead>\n",
       "    <tr style=\"text-align: right;\">\n",
       "      <th></th>\n",
       "      <th>game_id</th>\n",
       "      <th>date</th>\n",
       "      <th>variable</th>\n",
       "      <th>team</th>\n",
       "    </tr>\n",
       "  </thead>\n",
       "  <tbody>\n",
       "    <tr>\n",
       "      <th>0</th>\n",
       "      <td>0</td>\n",
       "      <td>2016-10-25</td>\n",
       "      <td>away_team</td>\n",
       "      <td>New York Knicks</td>\n",
       "    </tr>\n",
       "    <tr>\n",
       "      <th>1</th>\n",
       "      <td>1</td>\n",
       "      <td>2016-10-25</td>\n",
       "      <td>away_team</td>\n",
       "      <td>San Antonio Spurs</td>\n",
       "    </tr>\n",
       "    <tr>\n",
       "      <th>2</th>\n",
       "      <td>2</td>\n",
       "      <td>2016-10-25</td>\n",
       "      <td>away_team</td>\n",
       "      <td>Utah Jazz</td>\n",
       "    </tr>\n",
       "    <tr>\n",
       "      <th>3</th>\n",
       "      <td>3</td>\n",
       "      <td>2016-10-26</td>\n",
       "      <td>away_team</td>\n",
       "      <td>Brooklyn Nets</td>\n",
       "    </tr>\n",
       "    <tr>\n",
       "      <th>4</th>\n",
       "      <td>4</td>\n",
       "      <td>2016-10-26</td>\n",
       "      <td>away_team</td>\n",
       "      <td>Dallas Mavericks</td>\n",
       "    </tr>\n",
       "  </tbody>\n",
       "</table>\n",
       "</div>"
      ],
      "text/plain": [
       "   game_id       date   variable               team\n",
       "0        0 2016-10-25  away_team    New York Knicks\n",
       "1        1 2016-10-25  away_team  San Antonio Spurs\n",
       "2        2 2016-10-25  away_team          Utah Jazz\n",
       "3        3 2016-10-26  away_team      Brooklyn Nets\n",
       "4        4 2016-10-26  away_team   Dallas Mavericks"
      ]
     },
     "execution_count": 4,
     "metadata": {},
     "output_type": "execute_result"
    }
   ],
   "source": [
    "tidy = pd.melt(games.reset_index(),\n",
    "               id_vars=['game_id', 'date'], value_vars=['away_team', 'home_team'],\n",
    "               value_name='team')\n",
    "tidy.head()"
   ]
  },
  {
   "cell_type": "code",
   "execution_count": 5,
   "metadata": {
    "collapsed": false
   },
   "outputs": [
    {
     "data": {
      "text/plain": [
       "0     NaN\n",
       "1     NaN\n",
       "2     NaN\n",
       "3     NaN\n",
       "4     NaN\n",
       "     ... \n",
       "85    3.0\n",
       "86    3.0\n",
       "87    2.0\n",
       "88    0.0\n",
       "89    2.0\n",
       "Name: date, dtype: float64"
      ]
     },
     "execution_count": 5,
     "metadata": {},
     "output_type": "execute_result"
    }
   ],
   "source": [
    "# For each team...  get number of days between games\n",
    "tidy.groupby('team')['date'].diff().dt.days - 1"
   ]
  },
  {
   "cell_type": "code",
   "execution_count": 6,
   "metadata": {
    "collapsed": false
   },
   "outputs": [
    {
     "data": {
      "text/html": [
       "<div>\n",
       "<table border=\"1\" class=\"dataframe\">\n",
       "  <thead>\n",
       "    <tr style=\"text-align: right;\">\n",
       "      <th></th>\n",
       "      <th>game_id</th>\n",
       "      <th>date</th>\n",
       "      <th>variable</th>\n",
       "      <th>team</th>\n",
       "      <th>rest</th>\n",
       "    </tr>\n",
       "  </thead>\n",
       "  <tbody>\n",
       "    <tr>\n",
       "      <th>14</th>\n",
       "      <td>14</td>\n",
       "      <td>2016-10-27</td>\n",
       "      <td>away_team</td>\n",
       "      <td>Boston Celtics</td>\n",
       "      <td>0.0</td>\n",
       "    </tr>\n",
       "    <tr>\n",
       "      <th>16</th>\n",
       "      <td>16</td>\n",
       "      <td>2016-10-27</td>\n",
       "      <td>away_team</td>\n",
       "      <td>San Antonio Spurs</td>\n",
       "      <td>1.0</td>\n",
       "    </tr>\n",
       "    <tr>\n",
       "      <th>17</th>\n",
       "      <td>17</td>\n",
       "      <td>2016-10-28</td>\n",
       "      <td>away_team</td>\n",
       "      <td>Indiana Pacers</td>\n",
       "      <td>1.0</td>\n",
       "    </tr>\n",
       "    <tr>\n",
       "      <th>18</th>\n",
       "      <td>18</td>\n",
       "      <td>2016-10-28</td>\n",
       "      <td>away_team</td>\n",
       "      <td>Houston Rockets</td>\n",
       "      <td>1.0</td>\n",
       "    </tr>\n",
       "    <tr>\n",
       "      <th>19</th>\n",
       "      <td>19</td>\n",
       "      <td>2016-10-28</td>\n",
       "      <td>away_team</td>\n",
       "      <td>Orlando Magic</td>\n",
       "      <td>1.0</td>\n",
       "    </tr>\n",
       "  </tbody>\n",
       "</table>\n",
       "</div>"
      ],
      "text/plain": [
       "    game_id       date   variable               team  rest\n",
       "14       14 2016-10-27  away_team     Boston Celtics   0.0\n",
       "16       16 2016-10-27  away_team  San Antonio Spurs   1.0\n",
       "17       17 2016-10-28  away_team     Indiana Pacers   1.0\n",
       "18       18 2016-10-28  away_team    Houston Rockets   1.0\n",
       "19       19 2016-10-28  away_team      Orlando Magic   1.0"
      ]
     },
     "execution_count": 6,
     "metadata": {},
     "output_type": "execute_result"
    }
   ],
   "source": [
    "tidy['rest'] = tidy.sort_values('date').groupby('team').date.diff().dt.days - 1\n",
    "tidy.dropna().head()"
   ]
  },
  {
   "cell_type": "code",
   "execution_count": 7,
   "metadata": {
    "collapsed": false
   },
   "outputs": [
    {
     "data": {
      "text/html": [
       "<div>\n",
       "<table border=\"1\" class=\"dataframe\">\n",
       "  <thead>\n",
       "    <tr style=\"text-align: right;\">\n",
       "      <th></th>\n",
       "      <th></th>\n",
       "      <th>away_team</th>\n",
       "      <th>away_points</th>\n",
       "      <th>home_team</th>\n",
       "      <th>home_points</th>\n",
       "      <th>away_rest</th>\n",
       "      <th>home_rest</th>\n",
       "    </tr>\n",
       "    <tr>\n",
       "      <th>game_id</th>\n",
       "      <th>date</th>\n",
       "      <th></th>\n",
       "      <th></th>\n",
       "      <th></th>\n",
       "      <th></th>\n",
       "      <th></th>\n",
       "      <th></th>\n",
       "    </tr>\n",
       "  </thead>\n",
       "  <tbody>\n",
       "    <tr>\n",
       "      <th>16</th>\n",
       "      <th>2016-10-27</th>\n",
       "      <td>San Antonio Spurs</td>\n",
       "      <td>102</td>\n",
       "      <td>Sacramento Kings</td>\n",
       "      <td>94</td>\n",
       "      <td>1.0</td>\n",
       "      <td>0.0</td>\n",
       "    </tr>\n",
       "    <tr>\n",
       "      <th>17</th>\n",
       "      <th>2016-10-28</th>\n",
       "      <td>Indiana Pacers</td>\n",
       "      <td>94</td>\n",
       "      <td>Brooklyn Nets</td>\n",
       "      <td>103</td>\n",
       "      <td>1.0</td>\n",
       "      <td>1.0</td>\n",
       "    </tr>\n",
       "    <tr>\n",
       "      <th>18</th>\n",
       "      <th>2016-10-28</th>\n",
       "      <td>Houston Rockets</td>\n",
       "      <td>106</td>\n",
       "      <td>Dallas Mavericks</td>\n",
       "      <td>98</td>\n",
       "      <td>1.0</td>\n",
       "      <td>1.0</td>\n",
       "    </tr>\n",
       "    <tr>\n",
       "      <th>19</th>\n",
       "      <th>2016-10-28</th>\n",
       "      <td>Orlando Magic</td>\n",
       "      <td>82</td>\n",
       "      <td>Detroit Pistons</td>\n",
       "      <td>108</td>\n",
       "      <td>1.0</td>\n",
       "      <td>1.0</td>\n",
       "    </tr>\n",
       "    <tr>\n",
       "      <th>20</th>\n",
       "      <th>2016-10-28</th>\n",
       "      <td>Charlotte Hornets</td>\n",
       "      <td>97</td>\n",
       "      <td>Miami Heat</td>\n",
       "      <td>91</td>\n",
       "      <td>1.0</td>\n",
       "      <td>1.0</td>\n",
       "    </tr>\n",
       "  </tbody>\n",
       "</table>\n",
       "</div>"
      ],
      "text/plain": [
       "                            away_team  away_points         home_team  \\\n",
       "game_id date                                                           \n",
       "16      2016-10-27  San Antonio Spurs          102  Sacramento Kings   \n",
       "17      2016-10-28     Indiana Pacers           94     Brooklyn Nets   \n",
       "18      2016-10-28    Houston Rockets          106  Dallas Mavericks   \n",
       "19      2016-10-28      Orlando Magic           82   Detroit Pistons   \n",
       "20      2016-10-28  Charlotte Hornets           97        Miami Heat   \n",
       "\n",
       "                    home_points  away_rest  home_rest  \n",
       "game_id date                                           \n",
       "16      2016-10-27           94        1.0        0.0  \n",
       "17      2016-10-28          103        1.0        1.0  \n",
       "18      2016-10-28           98        1.0        1.0  \n",
       "19      2016-10-28          108        1.0        1.0  \n",
       "20      2016-10-28           91        1.0        1.0  "
      ]
     },
     "execution_count": 7,
     "metadata": {},
     "output_type": "execute_result"
    }
   ],
   "source": [
    "by_game = (pd.pivot_table(tidy, values='rest',\n",
    "                          index=['game_id', 'date'],\n",
    "                          columns='variable')\n",
    "             .rename(columns={'away_team': 'away_rest',\n",
    "                              'home_team': 'home_rest'}))\n",
    "df = pd.concat([games, by_game], axis=1)\n",
    "df.dropna().head()"
   ]
  },
  {
   "cell_type": "code",
   "execution_count": 13,
   "metadata": {
    "collapsed": false
   },
   "outputs": [
    {
     "ename": "NameError",
     "evalue": "name 'plot' is not defined",
     "output_type": "error",
     "traceback": [
      "\u001b[0;31m---------------------------------------------------------------------------\u001b[0m",
      "\u001b[0;31mNameError\u001b[0m                                 Traceback (most recent call last)",
      "\u001b[0;32m<ipython-input-13-28b95a2a8326>\u001b[0m in \u001b[0;36m<module>\u001b[0;34m()\u001b[0m\n\u001b[1;32m      1\u001b[0m \u001b[0mg\u001b[0m \u001b[0;34m=\u001b[0m \u001b[0msns\u001b[0m\u001b[0;34m.\u001b[0m\u001b[0mFacetGrid\u001b[0m\u001b[0;34m(\u001b[0m\u001b[0mtidy\u001b[0m\u001b[0;34m,\u001b[0m \u001b[0mcol\u001b[0m\u001b[0;34m=\u001b[0m\u001b[0;34m'team'\u001b[0m\u001b[0;34m,\u001b[0m \u001b[0mcol_wrap\u001b[0m\u001b[0;34m=\u001b[0m\u001b[0;36m6\u001b[0m\u001b[0;34m,\u001b[0m \u001b[0mhue\u001b[0m\u001b[0;34m=\u001b[0m\u001b[0;34m'team'\u001b[0m\u001b[0;34m)\u001b[0m\u001b[0;34m\u001b[0m\u001b[0m\n\u001b[1;32m      2\u001b[0m \u001b[0mg\u001b[0m\u001b[0;34m.\u001b[0m\u001b[0mmap\u001b[0m\u001b[0;34m(\u001b[0m\u001b[0msns\u001b[0m\u001b[0;34m.\u001b[0m\u001b[0mbarplot\u001b[0m\u001b[0;34m,\u001b[0m \u001b[0;34m'variable'\u001b[0m\u001b[0;34m,\u001b[0m \u001b[0;34m'rest'\u001b[0m\u001b[0;34m)\u001b[0m\u001b[0;34m\u001b[0m\u001b[0m\n\u001b[0;32m----> 3\u001b[0;31m \u001b[0mplot\u001b[0m\u001b[0;34m.\u001b[0m\u001b[0mg\u001b[0m\u001b[0;34m.\u001b[0m\u001b[0mmap\u001b[0m\u001b[0;34m\u001b[0m\u001b[0m\n\u001b[0m",
      "\u001b[0;31mNameError\u001b[0m: name 'plot' is not defined"
     ]
    }
   ],
   "source": [
    "g = sns.FacetGrid(tidy, col='team', col_wrap=6, hue='team')\n",
    "g.map(sns.barplot, 'variable', 'rest')\n",
    "plot.g.map"
   ]
  },
  {
   "cell_type": "code",
   "execution_count": 26,
   "metadata": {
    "collapsed": false
   },
   "outputs": [
    {
     "data": {
      "text/html": [
       "<div>\n",
       "<table border=\"1\" class=\"dataframe\">\n",
       "  <thead>\n",
       "    <tr style=\"text-align: right;\">\n",
       "      <th></th>\n",
       "      <th></th>\n",
       "      <th>away_team</th>\n",
       "      <th>away_points</th>\n",
       "      <th>home_team</th>\n",
       "      <th>home_points</th>\n",
       "      <th>away_rest</th>\n",
       "      <th>home_rest</th>\n",
       "      <th>home_win</th>\n",
       "      <th>rest_spread</th>\n",
       "      <th>away_strength</th>\n",
       "      <th>home_strength</th>\n",
       "      <th>point_diff</th>\n",
       "      <th>rest_diff</th>\n",
       "      <th>away_win</th>\n",
       "    </tr>\n",
       "    <tr>\n",
       "      <th>game_id</th>\n",
       "      <th>date</th>\n",
       "      <th></th>\n",
       "      <th></th>\n",
       "      <th></th>\n",
       "      <th></th>\n",
       "      <th></th>\n",
       "      <th></th>\n",
       "      <th></th>\n",
       "      <th></th>\n",
       "      <th></th>\n",
       "      <th></th>\n",
       "      <th></th>\n",
       "      <th></th>\n",
       "      <th></th>\n",
       "    </tr>\n",
       "  </thead>\n",
       "  <tbody>\n",
       "    <tr>\n",
       "      <th>16</th>\n",
       "      <th>2016-10-27</th>\n",
       "      <td>San Antonio Spurs</td>\n",
       "      <td>102</td>\n",
       "      <td>Sacramento Kings</td>\n",
       "      <td>94</td>\n",
       "      <td>1.0</td>\n",
       "      <td>0.0</td>\n",
       "      <td>False</td>\n",
       "      <td>-1.0</td>\n",
       "      <td>1.000000</td>\n",
       "      <td>0.500000</td>\n",
       "      <td>-8</td>\n",
       "      <td>-1.0</td>\n",
       "      <td>True</td>\n",
       "    </tr>\n",
       "    <tr>\n",
       "      <th>17</th>\n",
       "      <th>2016-10-28</th>\n",
       "      <td>Indiana Pacers</td>\n",
       "      <td>94</td>\n",
       "      <td>Brooklyn Nets</td>\n",
       "      <td>103</td>\n",
       "      <td>1.0</td>\n",
       "      <td>1.0</td>\n",
       "      <td>True</td>\n",
       "      <td>0.0</td>\n",
       "      <td>0.333333</td>\n",
       "      <td>0.250000</td>\n",
       "      <td>9</td>\n",
       "      <td>0.0</td>\n",
       "      <td>False</td>\n",
       "    </tr>\n",
       "    <tr>\n",
       "      <th>18</th>\n",
       "      <th>2016-10-28</th>\n",
       "      <td>Houston Rockets</td>\n",
       "      <td>106</td>\n",
       "      <td>Dallas Mavericks</td>\n",
       "      <td>98</td>\n",
       "      <td>1.0</td>\n",
       "      <td>1.0</td>\n",
       "      <td>False</td>\n",
       "      <td>0.0</td>\n",
       "      <td>0.666667</td>\n",
       "      <td>0.000000</td>\n",
       "      <td>-8</td>\n",
       "      <td>0.0</td>\n",
       "      <td>True</td>\n",
       "    </tr>\n",
       "    <tr>\n",
       "      <th>19</th>\n",
       "      <th>2016-10-28</th>\n",
       "      <td>Orlando Magic</td>\n",
       "      <td>82</td>\n",
       "      <td>Detroit Pistons</td>\n",
       "      <td>108</td>\n",
       "      <td>1.0</td>\n",
       "      <td>1.0</td>\n",
       "      <td>True</td>\n",
       "      <td>0.0</td>\n",
       "      <td>0.000000</td>\n",
       "      <td>0.666667</td>\n",
       "      <td>26</td>\n",
       "      <td>0.0</td>\n",
       "      <td>False</td>\n",
       "    </tr>\n",
       "    <tr>\n",
       "      <th>20</th>\n",
       "      <th>2016-10-28</th>\n",
       "      <td>Charlotte Hornets</td>\n",
       "      <td>97</td>\n",
       "      <td>Miami Heat</td>\n",
       "      <td>91</td>\n",
       "      <td>1.0</td>\n",
       "      <td>1.0</td>\n",
       "      <td>False</td>\n",
       "      <td>0.0</td>\n",
       "      <td>0.666667</td>\n",
       "      <td>0.333333</td>\n",
       "      <td>-6</td>\n",
       "      <td>0.0</td>\n",
       "      <td>True</td>\n",
       "    </tr>\n",
       "  </tbody>\n",
       "</table>\n",
       "</div>"
      ],
      "text/plain": [
       "                            away_team  away_points         home_team  \\\n",
       "game_id date                                                           \n",
       "16      2016-10-27  San Antonio Spurs          102  Sacramento Kings   \n",
       "17      2016-10-28     Indiana Pacers           94     Brooklyn Nets   \n",
       "18      2016-10-28    Houston Rockets          106  Dallas Mavericks   \n",
       "19      2016-10-28      Orlando Magic           82   Detroit Pistons   \n",
       "20      2016-10-28  Charlotte Hornets           97        Miami Heat   \n",
       "\n",
       "                    home_points  away_rest  home_rest home_win  rest_spread  \\\n",
       "game_id date                                                                  \n",
       "16      2016-10-27           94        1.0        0.0    False         -1.0   \n",
       "17      2016-10-28          103        1.0        1.0     True          0.0   \n",
       "18      2016-10-28           98        1.0        1.0    False          0.0   \n",
       "19      2016-10-28          108        1.0        1.0     True          0.0   \n",
       "20      2016-10-28           91        1.0        1.0    False          0.0   \n",
       "\n",
       "                    away_strength  home_strength  point_diff  rest_diff  \\\n",
       "game_id date                                                              \n",
       "16      2016-10-27       1.000000       0.500000          -8       -1.0   \n",
       "17      2016-10-28       0.333333       0.250000           9        0.0   \n",
       "18      2016-10-28       0.666667       0.000000          -8        0.0   \n",
       "19      2016-10-28       0.000000       0.666667          26        0.0   \n",
       "20      2016-10-28       0.666667       0.333333          -6        0.0   \n",
       "\n",
       "                   away_win  \n",
       "game_id date                 \n",
       "16      2016-10-27     True  \n",
       "17      2016-10-28    False  \n",
       "18      2016-10-28     True  \n",
       "19      2016-10-28    False  \n",
       "20      2016-10-28     True  "
      ]
     },
     "execution_count": 26,
     "metadata": {},
     "output_type": "execute_result"
    }
   ],
   "source": [
    "df['home_win'] = df['home_points'] > df['away_points'] \n",
    "df['away_win'] = df['away_points'] > df['home_points']\n",
    "df['rest_spread'] = df['home_rest'] - df['away_rest']\n",
    "df.dropna().head()"
   ]
  },
  {
   "cell_type": "code",
   "execution_count": 11,
   "metadata": {
    "collapsed": false
   },
   "outputs": [
    {
     "data": {
      "text/plain": [
       "[<matplotlib.text.Text at 0x11b2c3850>, <matplotlib.text.Text at 0x11b2b8d90>]"
      ]
     },
     "execution_count": 11,
     "metadata": {},
     "output_type": "execute_result"
    }
   ],
   "source": [
    "delta = (by_game.home_rest - by_game.away_rest).dropna().astype(int)\n",
    "ax = (delta.value_counts()\n",
    "    .reindex(np.arange(delta.min(), delta.max() + 1), fill_value=0)\n",
    "    .sort_index()\n",
    "    .plot(kind='bar', color='k', width=.9, rot=0, figsize=(12, 6))\n",
    ")\n",
    "sns.despine()\n",
    "ax.set(xlabel='Difference in Rest (Home - Away)', ylabel='Games')"
   ]
  },
  {
   "cell_type": "code",
   "execution_count": 14,
   "metadata": {
    "collapsed": true
   },
   "outputs": [],
   "source": [
    "fig, ax = plt.subplots(figsize=(12, 6))\n",
    "sns.barplot(x='rest_spread', y='home_win', data=df.query('-3 <= rest_spread <= 3'),\n",
    "            color='#4c72b0', ax=ax)\n",
    "sns.despine()"
   ]
  },
  {
   "cell_type": "code",
   "execution_count": 15,
   "metadata": {
    "collapsed": false
   },
   "outputs": [
    {
     "data": {
      "text/plain": [
       "date        variable \n",
       "2016-10-27  away_team    0.500000\n",
       "            home_team    0.500000\n",
       "2016-10-28  away_team    1.250000\n",
       "            home_team    1.125000\n",
       "2016-10-29  away_team    0.777778\n",
       "Name: rest, dtype: float64"
      ]
     },
     "execution_count": 15,
     "metadata": {},
     "output_type": "execute_result"
    }
   ],
   "source": [
    "rest = (tidy.groupby(['date', 'variable'])\n",
    "            .rest.mean()\n",
    "            .dropna())\n",
    "rest.head()"
   ]
  },
  {
   "cell_type": "code",
   "execution_count": 16,
   "metadata": {
    "collapsed": false
   },
   "outputs": [
    {
     "data": {
      "text/html": [
       "<div>\n",
       "<table border=\"1\" class=\"dataframe\">\n",
       "  <thead>\n",
       "    <tr style=\"text-align: right;\">\n",
       "      <th>variable</th>\n",
       "      <th>away_team</th>\n",
       "      <th>home_team</th>\n",
       "    </tr>\n",
       "    <tr>\n",
       "      <th>date</th>\n",
       "      <th></th>\n",
       "      <th></th>\n",
       "    </tr>\n",
       "  </thead>\n",
       "  <tbody>\n",
       "    <tr>\n",
       "      <th>2016-10-27</th>\n",
       "      <td>0.500000</td>\n",
       "      <td>0.500000</td>\n",
       "    </tr>\n",
       "    <tr>\n",
       "      <th>2016-10-28</th>\n",
       "      <td>1.250000</td>\n",
       "      <td>1.125000</td>\n",
       "    </tr>\n",
       "    <tr>\n",
       "      <th>2016-10-29</th>\n",
       "      <td>0.777778</td>\n",
       "      <td>1.333333</td>\n",
       "    </tr>\n",
       "    <tr>\n",
       "      <th>2016-10-30</th>\n",
       "      <td>0.857143</td>\n",
       "      <td>1.000000</td>\n",
       "    </tr>\n",
       "    <tr>\n",
       "      <th>2016-10-31</th>\n",
       "      <td>0.750000</td>\n",
       "      <td>1.000000</td>\n",
       "    </tr>\n",
       "  </tbody>\n",
       "</table>\n",
       "</div>"
      ],
      "text/plain": [
       "variable    away_team  home_team\n",
       "date                            \n",
       "2016-10-27   0.500000   0.500000\n",
       "2016-10-28   1.250000   1.125000\n",
       "2016-10-29   0.777778   1.333333\n",
       "2016-10-30   0.857143   1.000000\n",
       "2016-10-31   0.750000   1.000000"
      ]
     },
     "execution_count": 16,
     "metadata": {},
     "output_type": "execute_result"
    }
   ],
   "source": [
    "rest.unstack().head()"
   ]
  },
  {
   "cell_type": "code",
   "execution_count": 17,
   "metadata": {
    "collapsed": false
   },
   "outputs": [
    {
     "data": {
      "text/plain": [
       "date        variable \n",
       "2016-10-27  away_team    0.500000\n",
       "            home_team    0.500000\n",
       "2016-10-28  away_team    1.250000\n",
       "            home_team    1.125000\n",
       "2016-10-29  away_team    0.777778\n",
       "            home_team    1.333333\n",
       "2016-10-30  away_team    0.857143\n",
       "            home_team    1.000000\n",
       "2016-10-31  away_team    0.750000\n",
       "            home_team    1.000000\n",
       "dtype: float64"
      ]
     },
     "execution_count": 17,
     "metadata": {},
     "output_type": "execute_result"
    }
   ],
   "source": [
    "rest.unstack().stack()"
   ]
  },
  {
   "cell_type": "code",
   "execution_count": 18,
   "metadata": {
    "collapsed": true
   },
   "outputs": [],
   "source": [
    "ax=(rest.unstack()\n",
    "        .query('away_team < 7')\n",
    "        .rolling(7)\n",
    "        .mean().plot(figsize=(12, 6), linewidth=3, legend=False))\n",
    "ax.annotate(\"Home\", (rest.index[-1][0], 1.02), color='g', size=14)\n",
    "ax.annotate(\"Away\", (rest.index[-1][0], 0.82), color='b', size=14)\n",
    "sns.despine()"
   ]
  },
  {
   "cell_type": "code",
   "execution_count": 19,
   "metadata": {
    "collapsed": true
   },
   "outputs": [],
   "source": [
    "df['home_win'] = df.home_points > df.away_points"
   ]
  },
  {
   "cell_type": "code",
   "execution_count": 20,
   "metadata": {
    "collapsed": false
   },
   "outputs": [
    {
     "data": {
      "text/html": [
       "<div>\n",
       "<table border=\"1\" class=\"dataframe\">\n",
       "  <thead>\n",
       "    <tr style=\"text-align: right;\">\n",
       "      <th></th>\n",
       "      <th></th>\n",
       "      <th>n_games</th>\n",
       "      <th>n_wins</th>\n",
       "      <th>win_pct</th>\n",
       "    </tr>\n",
       "    <tr>\n",
       "      <th>team</th>\n",
       "      <th>is_home</th>\n",
       "      <th></th>\n",
       "      <th></th>\n",
       "      <th></th>\n",
       "    </tr>\n",
       "  </thead>\n",
       "  <tbody>\n",
       "    <tr>\n",
       "      <th rowspan=\"2\" valign=\"top\">Atlanta Hawks</th>\n",
       "      <th>away_team</th>\n",
       "      <td>1</td>\n",
       "      <td>1.0</td>\n",
       "      <td>1.0</td>\n",
       "    </tr>\n",
       "    <tr>\n",
       "      <th>home_team</th>\n",
       "      <td>2</td>\n",
       "      <td>2.0</td>\n",
       "      <td>1.0</td>\n",
       "    </tr>\n",
       "    <tr>\n",
       "      <th rowspan=\"2\" valign=\"top\">Boston Celtics</th>\n",
       "      <th>away_team</th>\n",
       "      <td>2</td>\n",
       "      <td>1.0</td>\n",
       "      <td>0.5</td>\n",
       "    </tr>\n",
       "    <tr>\n",
       "      <th>home_team</th>\n",
       "      <td>1</td>\n",
       "      <td>1.0</td>\n",
       "      <td>1.0</td>\n",
       "    </tr>\n",
       "    <tr>\n",
       "      <th>Brooklyn Nets</th>\n",
       "      <th>away_team</th>\n",
       "      <td>2</td>\n",
       "      <td>0.0</td>\n",
       "      <td>0.0</td>\n",
       "    </tr>\n",
       "  </tbody>\n",
       "</table>\n",
       "</div>"
      ],
      "text/plain": [
       "                          n_games  n_wins  win_pct\n",
       "team           is_home                            \n",
       "Atlanta Hawks  away_team        1     1.0      1.0\n",
       "               home_team        2     2.0      1.0\n",
       "Boston Celtics away_team        2     1.0      0.5\n",
       "               home_team        1     1.0      1.0\n",
       "Brooklyn Nets  away_team        2     0.0      0.0"
      ]
     },
     "execution_count": 20,
     "metadata": {},
     "output_type": "execute_result"
    }
   ],
   "source": [
    "wins = (\n",
    "    pd.melt(df.reset_index(),\n",
    "            id_vars=['game_id', 'date', 'home_win'],\n",
    "            value_name='team', var_name='is_home',\n",
    "            value_vars=['home_team', 'away_team'])\n",
    "   .assign(win=lambda x: x.home_win == (x.is_home == 'home_team'))\n",
    "   .groupby(['team', 'is_home'])\n",
    "   .win\n",
    "   .agg({'n_wins': 'sum', 'n_games': 'count', 'win_pct': 'mean'})\n",
    ")\n",
    "wins.head()"
   ]
  },
  {
   "cell_type": "code",
   "execution_count": 21,
   "metadata": {
    "collapsed": false
   },
   "outputs": [
    {
     "data": {
      "text/plain": [
       "team\n",
       "Atlanta Hawks        1.000000\n",
       "Boston Celtics       0.666667\n",
       "Brooklyn Nets        0.250000\n",
       "Charlotte Hornets    0.666667\n",
       "Chicago Bulls        1.000000\n",
       "dtype: float64"
      ]
     },
     "execution_count": 21,
     "metadata": {},
     "output_type": "execute_result"
    }
   ],
   "source": [
    "win_percent = (\n",
    "    # Use sum(wins) / sum(games) since I don't\n",
    "    # know if teams play the same number of games at\n",
    "    # home as away\n",
    "    wins.groupby(level='team', as_index=True)\n",
    "        .apply(lambda x: x.n_wins.sum() / x.n_games.sum())\n",
    ")\n",
    "win_percent.head()"
   ]
  },
  {
   "cell_type": "code",
   "execution_count": 22,
   "metadata": {
    "collapsed": false
   },
   "outputs": [
    {
     "data": {
      "text/html": [
       "<div>\n",
       "<table border=\"1\" class=\"dataframe\">\n",
       "  <thead>\n",
       "    <tr style=\"text-align: right;\">\n",
       "      <th></th>\n",
       "      <th></th>\n",
       "      <th>away_team</th>\n",
       "      <th>away_points</th>\n",
       "      <th>home_team</th>\n",
       "      <th>home_points</th>\n",
       "      <th>away_rest</th>\n",
       "      <th>home_rest</th>\n",
       "      <th>home_win</th>\n",
       "      <th>rest_spread</th>\n",
       "      <th>away_strength</th>\n",
       "      <th>home_strength</th>\n",
       "      <th>point_diff</th>\n",
       "      <th>rest_diff</th>\n",
       "    </tr>\n",
       "    <tr>\n",
       "      <th>game_id</th>\n",
       "      <th>date</th>\n",
       "      <th></th>\n",
       "      <th></th>\n",
       "      <th></th>\n",
       "      <th></th>\n",
       "      <th></th>\n",
       "      <th></th>\n",
       "      <th></th>\n",
       "      <th></th>\n",
       "      <th></th>\n",
       "      <th></th>\n",
       "      <th></th>\n",
       "      <th></th>\n",
       "    </tr>\n",
       "  </thead>\n",
       "  <tbody>\n",
       "    <tr>\n",
       "      <th>0</th>\n",
       "      <th>2016-10-25</th>\n",
       "      <td>New York Knicks</td>\n",
       "      <td>88</td>\n",
       "      <td>Cleveland Cavaliers</td>\n",
       "      <td>117</td>\n",
       "      <td>NaN</td>\n",
       "      <td>NaN</td>\n",
       "      <td>True</td>\n",
       "      <td>NaN</td>\n",
       "      <td>0.500000</td>\n",
       "      <td>1.000000</td>\n",
       "      <td>29</td>\n",
       "      <td>NaN</td>\n",
       "    </tr>\n",
       "    <tr>\n",
       "      <th>1</th>\n",
       "      <th>2016-10-25</th>\n",
       "      <td>San Antonio Spurs</td>\n",
       "      <td>129</td>\n",
       "      <td>Golden State Warriors</td>\n",
       "      <td>100</td>\n",
       "      <td>NaN</td>\n",
       "      <td>NaN</td>\n",
       "      <td>False</td>\n",
       "      <td>NaN</td>\n",
       "      <td>1.000000</td>\n",
       "      <td>0.666667</td>\n",
       "      <td>-29</td>\n",
       "      <td>NaN</td>\n",
       "    </tr>\n",
       "    <tr>\n",
       "      <th>2</th>\n",
       "      <th>2016-10-25</th>\n",
       "      <td>Utah Jazz</td>\n",
       "      <td>104</td>\n",
       "      <td>Portland Trail Blazers</td>\n",
       "      <td>113</td>\n",
       "      <td>NaN</td>\n",
       "      <td>NaN</td>\n",
       "      <td>True</td>\n",
       "      <td>NaN</td>\n",
       "      <td>0.333333</td>\n",
       "      <td>0.666667</td>\n",
       "      <td>9</td>\n",
       "      <td>NaN</td>\n",
       "    </tr>\n",
       "    <tr>\n",
       "      <th>3</th>\n",
       "      <th>2016-10-26</th>\n",
       "      <td>Brooklyn Nets</td>\n",
       "      <td>117</td>\n",
       "      <td>Boston Celtics</td>\n",
       "      <td>122</td>\n",
       "      <td>NaN</td>\n",
       "      <td>NaN</td>\n",
       "      <td>True</td>\n",
       "      <td>NaN</td>\n",
       "      <td>0.250000</td>\n",
       "      <td>0.666667</td>\n",
       "      <td>5</td>\n",
       "      <td>NaN</td>\n",
       "    </tr>\n",
       "    <tr>\n",
       "      <th>4</th>\n",
       "      <th>2016-10-26</th>\n",
       "      <td>Dallas Mavericks</td>\n",
       "      <td>121</td>\n",
       "      <td>Indiana Pacers</td>\n",
       "      <td>130</td>\n",
       "      <td>NaN</td>\n",
       "      <td>NaN</td>\n",
       "      <td>True</td>\n",
       "      <td>NaN</td>\n",
       "      <td>0.000000</td>\n",
       "      <td>0.333333</td>\n",
       "      <td>9</td>\n",
       "      <td>NaN</td>\n",
       "    </tr>\n",
       "  </tbody>\n",
       "</table>\n",
       "</div>"
      ],
      "text/plain": [
       "                            away_team  away_points               home_team  \\\n",
       "game_id date                                                                 \n",
       "0       2016-10-25    New York Knicks           88     Cleveland Cavaliers   \n",
       "1       2016-10-25  San Antonio Spurs          129   Golden State Warriors   \n",
       "2       2016-10-25          Utah Jazz          104  Portland Trail Blazers   \n",
       "3       2016-10-26      Brooklyn Nets          117          Boston Celtics   \n",
       "4       2016-10-26   Dallas Mavericks          121          Indiana Pacers   \n",
       "\n",
       "                    home_points  away_rest  home_rest home_win  rest_spread  \\\n",
       "game_id date                                                                  \n",
       "0       2016-10-25          117        NaN        NaN     True          NaN   \n",
       "1       2016-10-25          100        NaN        NaN    False          NaN   \n",
       "2       2016-10-25          113        NaN        NaN     True          NaN   \n",
       "3       2016-10-26          122        NaN        NaN     True          NaN   \n",
       "4       2016-10-26          130        NaN        NaN     True          NaN   \n",
       "\n",
       "                    away_strength  home_strength  point_diff  rest_diff  \n",
       "game_id date                                                             \n",
       "0       2016-10-25       0.500000       1.000000          29        NaN  \n",
       "1       2016-10-25       1.000000       0.666667         -29        NaN  \n",
       "2       2016-10-25       0.333333       0.666667           9        NaN  \n",
       "3       2016-10-26       0.250000       0.666667           5        NaN  \n",
       "4       2016-10-26       0.000000       0.333333           9        NaN  "
      ]
     },
     "execution_count": 22,
     "metadata": {},
     "output_type": "execute_result"
    }
   ],
   "source": [
    "df = df.assign(away_strength=df['away_team'].map(win_percent),\n",
    "               home_strength=df['home_team'].map(win_percent),\n",
    "               point_diff=df['home_points'] - df['away_points'],\n",
    "               rest_diff=df['home_rest'] - df['away_rest'])\n",
    "df.head()"
   ]
  },
  {
   "cell_type": "code",
   "execution_count": 23,
   "metadata": {
    "collapsed": true
   },
   "outputs": [],
   "source": [
    "import statsmodels.formula.api as sm\n",
    "\n",
    "df['home_win'] = df.home_win.astype(int)  # for statsmodels"
   ]
  },
  {
   "cell_type": "code",
   "execution_count": 24,
   "metadata": {
    "collapsed": false
   },
   "outputs": [
    {
     "name": "stdout",
     "output_type": "stream",
     "text": [
      "Warning: Maximum number of iterations has been exceeded.\n",
      "         Current function value: 0.000000\n",
      "         Iterations: 35\n"
     ]
    },
    {
     "name": "stderr",
     "output_type": "stream",
     "text": [
      "/Users/mitchellsilverman/anaconda/lib/python2.7/site-packages/statsmodels/base/model.py:466: ConvergenceWarning: Maximum Likelihood optimization failed to converge. Check mle_retvals\n",
      "  \"Check mle_retvals\", ConvergenceWarning)\n"
     ]
    },
    {
     "data": {
      "text/html": [
       "<table class=\"simpletable\">\n",
       "<caption>Logit Regression Results</caption>\n",
       "<tr>\n",
       "  <th>Dep. Variable:</th>     <td>home_win</td>     <th>  No. Observations:  </th>   <td>    29</td>   \n",
       "</tr>\n",
       "<tr>\n",
       "  <th>Model:</th>               <td>Logit</td>      <th>  Df Residuals:      </th>   <td>    24</td>   \n",
       "</tr>\n",
       "<tr>\n",
       "  <th>Method:</th>               <td>MLE</td>       <th>  Df Model:          </th>   <td>     4</td>   \n",
       "</tr>\n",
       "<tr>\n",
       "  <th>Date:</th>          <td>Sun, 26 Mar 2017</td> <th>  Pseudo R-squ.:     </th>   <td> 1.000</td>   \n",
       "</tr>\n",
       "<tr>\n",
       "  <th>Time:</th>              <td>14:13:43</td>     <th>  Log-Likelihood:    </th> <td>-2.1714e-07</td>\n",
       "</tr>\n",
       "<tr>\n",
       "  <th>converged:</th>           <td>False</td>      <th>  LL-Null:           </th>  <td> -19.248</td>  \n",
       "</tr>\n",
       "<tr>\n",
       "  <th> </th>                      <td> </td>        <th>  LLR p-value:       </th>  <td>8.852e-08</td> \n",
       "</tr>\n",
       "</table>\n",
       "<table class=\"simpletable\">\n",
       "<tr>\n",
       "        <td></td>           <th>coef</th>     <th>std err</th>      <th>z</th>      <th>P>|z|</th> <th>[95.0% Conf. Int.]</th> \n",
       "</tr>\n",
       "<tr>\n",
       "  <th>Intercept</th>     <td>   38.1177</td> <td> 3.06e+04</td> <td>    0.001</td> <td> 0.999</td> <td>-5.99e+04     6e+04</td>\n",
       "</tr>\n",
       "<tr>\n",
       "  <th>home_strength</th> <td>   37.6986</td> <td> 3.24e+04</td> <td>    0.001</td> <td> 0.999</td> <td>-6.35e+04  6.35e+04</td>\n",
       "</tr>\n",
       "<tr>\n",
       "  <th>away_strength</th> <td> -158.7919</td> <td> 6.89e+04</td> <td>   -0.002</td> <td> 0.998</td> <td>-1.35e+05  1.35e+05</td>\n",
       "</tr>\n",
       "<tr>\n",
       "  <th>home_rest</th>     <td>    6.9403</td> <td> 8013.336</td> <td>    0.001</td> <td> 0.999</td> <td>-1.57e+04  1.57e+04</td>\n",
       "</tr>\n",
       "<tr>\n",
       "  <th>away_rest</th>     <td>   22.4721</td> <td>  1.4e+04</td> <td>    0.002</td> <td> 0.999</td> <td>-2.73e+04  2.74e+04</td>\n",
       "</tr>\n",
       "</table>"
      ],
      "text/plain": [
       "<class 'statsmodels.iolib.summary.Summary'>\n",
       "\"\"\"\n",
       "                           Logit Regression Results                           \n",
       "==============================================================================\n",
       "Dep. Variable:               home_win   No. Observations:                   29\n",
       "Model:                          Logit   Df Residuals:                       24\n",
       "Method:                           MLE   Df Model:                            4\n",
       "Date:                Sun, 26 Mar 2017   Pseudo R-squ.:                   1.000\n",
       "Time:                        14:13:43   Log-Likelihood:            -2.1714e-07\n",
       "converged:                      False   LL-Null:                       -19.248\n",
       "                                        LLR p-value:                 8.852e-08\n",
       "=================================================================================\n",
       "                    coef    std err          z      P>|z|      [95.0% Conf. Int.]\n",
       "---------------------------------------------------------------------------------\n",
       "Intercept        38.1177   3.06e+04      0.001      0.999     -5.99e+04     6e+04\n",
       "home_strength    37.6986   3.24e+04      0.001      0.999     -6.35e+04  6.35e+04\n",
       "away_strength  -158.7919   6.89e+04     -0.002      0.998     -1.35e+05  1.35e+05\n",
       "home_rest         6.9403   8013.336      0.001      0.999     -1.57e+04  1.57e+04\n",
       "away_rest        22.4721    1.4e+04      0.002      0.999     -2.73e+04  2.74e+04\n",
       "=================================================================================\n",
       "\n",
       "Complete Separation: The results show that there iscomplete separation.\n",
       "In this case the Maximum Likelihood Estimator does not exist and the parameters\n",
       "are not identified.\n",
       "\"\"\""
      ]
     },
     "execution_count": 24,
     "metadata": {},
     "output_type": "execute_result"
    }
   ],
   "source": [
    "mod = sm.logit('home_win ~ home_strength + away_strength + home_rest + away_rest', df)\n",
    "res = mod.fit()\n",
    "res.summary()"
   ]
  },
  {
   "cell_type": "code",
   "execution_count": null,
   "metadata": {
    "collapsed": false
   },
   "outputs": [],
   "source": []
  },
  {
   "cell_type": "code",
   "execution_count": null,
   "metadata": {
    "collapsed": true
   },
   "outputs": [],
   "source": []
  }
 ],
 "metadata": {
  "anaconda-cloud": {},
  "kernelspec": {
   "display_name": "Python [default]",
   "language": "python",
   "name": "python2"
  },
  "language_info": {
   "codemirror_mode": {
    "name": "ipython",
    "version": 2
   },
   "file_extension": ".py",
   "mimetype": "text/x-python",
   "name": "python",
   "nbconvert_exporter": "python",
   "pygments_lexer": "ipython2",
   "version": "2.7.12"
  }
 },
 "nbformat": 4,
 "nbformat_minor": 1
}
